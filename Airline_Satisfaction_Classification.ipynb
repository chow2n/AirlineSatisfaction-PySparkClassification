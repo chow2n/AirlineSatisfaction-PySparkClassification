{
  "cells": [
    {
      "cell_type": "code",
      "execution_count": null,
      "id": "7de26d97",
      "metadata": {
        "id": "7de26d97",
        "outputId": "74f57064-ccee-4a8b-9c6b-a96f1528534e"
      },
      "outputs": [
        {
          "data": {
            "text/html": [
              "Current session configs: <tt>{'driverMemory': '6000M', 'proxyUser': 'assumed-role_voclabs_user1375779_Christopher_Ma', 'kind': 'pyspark'}</tt><br>"
            ],
            "text/plain": [
              "<IPython.core.display.HTML object>"
            ]
          },
          "metadata": {},
          "output_type": "display_data"
        },
        {
          "data": {
            "text/html": [
              "No active sessions."
            ],
            "text/plain": [
              "<IPython.core.display.HTML object>"
            ]
          },
          "metadata": {},
          "output_type": "display_data"
        }
      ],
      "source": [
        "%%configure -f \n",
        "{\"driverMemory\": \"6000M\"}"
      ]
    },
    {
      "cell_type": "markdown",
      "id": "5d212b0b",
      "metadata": {
        "id": "5d212b0b"
      },
      "source": [
        "Airline Satisfaction Survey Classification Model"
      ]
    },
    {
      "cell_type": "code",
      "execution_count": null,
      "id": "85814160",
      "metadata": {
        "id": "85814160",
        "outputId": "44c8b02f-2ddc-4c32-ff51-40f511774d46",
        "colab": {
          "referenced_widgets": [
            "2e78d465ef6647f8a56fd07e7f702d60",
            ""
          ]
        }
      },
      "outputs": [
        {
          "data": {
            "application/vnd.jupyter.widget-view+json": {
              "model_id": "2e78d465ef6647f8a56fd07e7f702d60",
              "version_major": 2,
              "version_minor": 0
            },
            "text/plain": [
              "VBox()"
            ]
          },
          "metadata": {},
          "output_type": "display_data"
        },
        {
          "name": "stdout",
          "output_type": "stream",
          "text": [
            "Starting Spark application\n"
          ]
        },
        {
          "data": {
            "text/html": [
              "<table>\n",
              "<tr><th>ID</th><th>YARN Application ID</th><th>Kind</th><th>State</th><th>Spark UI</th><th>Driver log</th><th>Current session?</th></tr><tr><td>1</td><td>application_1638168656605_0002</td><td>pyspark</td><td>idle</td><td><a target=\"_blank\" href=\"http://ip-172-31-67-194.ec2.internal:20888/proxy/application_1638168656605_0002/\">Link</a></td><td><a target=\"_blank\" href=\"http://ip-172-31-66-80.ec2.internal:8042/node/containerlogs/container_1638168656605_0002_01_000001/livy\">Link</a></td><td>✔</td></tr></table>"
            ],
            "text/plain": [
              "<IPython.core.display.HTML object>"
            ]
          },
          "metadata": {},
          "output_type": "display_data"
        },
        {
          "data": {
            "application/vnd.jupyter.widget-view+json": {
              "model_id": "",
              "version_major": 2,
              "version_minor": 0
            },
            "text/plain": [
              "FloatProgress(value=0.0, bar_style='info', description='Progress:', layout=Layout(height='25px', width='50%'),…"
            ]
          },
          "metadata": {},
          "output_type": "display_data"
        },
        {
          "name": "stdout",
          "output_type": "stream",
          "text": [
            "SparkSession available as 'spark'.\n"
          ]
        },
        {
          "data": {
            "application/vnd.jupyter.widget-view+json": {
              "model_id": "",
              "version_major": 2,
              "version_minor": 0
            },
            "text/plain": [
              "FloatProgress(value=0.0, bar_style='info', description='Progress:', layout=Layout(height='25px', width='50%'),…"
            ]
          },
          "metadata": {},
          "output_type": "display_data"
        }
      ],
      "source": [
        "from pyspark.ml import Pipeline\n",
        "import pyspark.ml.feature as feat\n",
        "import pyspark.ml.tuning as tune\n",
        "import pyspark.ml.classification as cl\n",
        "import pyspark.ml.evaluation as ev"
      ]
    },
    {
      "cell_type": "code",
      "execution_count": null,
      "id": "d9d1a3f1",
      "metadata": {
        "id": "d9d1a3f1",
        "outputId": "3015ec91-100e-4107-aa2d-840703287dc0",
        "colab": {
          "referenced_widgets": [
            "891d6c6c45394699a8c6714dd9475fd9",
            ""
          ]
        }
      },
      "outputs": [
        {
          "data": {
            "application/vnd.jupyter.widget-view+json": {
              "model_id": "891d6c6c45394699a8c6714dd9475fd9",
              "version_major": 2,
              "version_minor": 0
            },
            "text/plain": [
              "VBox()"
            ]
          },
          "metadata": {},
          "output_type": "display_data"
        },
        {
          "data": {
            "application/vnd.jupyter.widget-view+json": {
              "model_id": "",
              "version_major": 2,
              "version_minor": 0
            },
            "text/plain": [
              "FloatProgress(value=0.0, bar_style='info', description='Progress:', layout=Layout(height='25px', width='50%'),…"
            ]
          },
          "metadata": {},
          "output_type": "display_data"
        }
      ],
      "source": [
        "airline_csv = (spark.read.csv('s3://aws-logs-726097832390-us-east-1/Spark/satisfaction.csv', \n",
        "                                  header=True, inferSchema=True))"
      ]
    },
    {
      "cell_type": "markdown",
      "id": "80c54c07",
      "metadata": {
        "id": "80c54c07"
      },
      "source": [
        "# Preprocessing and Transformations"
      ]
    },
    {
      "cell_type": "markdown",
      "id": "deb4f1b6",
      "metadata": {
        "id": "deb4f1b6"
      },
      "source": [
        "Here, we compare the count vs the distinct count to determine if the dataset has any duplicates."
      ]
    },
    {
      "cell_type": "code",
      "execution_count": null,
      "id": "6a60850c",
      "metadata": {
        "id": "6a60850c",
        "outputId": "2420abe5-d518-4f58-9dc9-7590608b9932",
        "colab": {
          "referenced_widgets": [
            "943b712776374fd98bae3f5b0acabe88",
            ""
          ]
        }
      },
      "outputs": [
        {
          "data": {
            "application/vnd.jupyter.widget-view+json": {
              "model_id": "943b712776374fd98bae3f5b0acabe88",
              "version_major": 2,
              "version_minor": 0
            },
            "text/plain": [
              "VBox()"
            ]
          },
          "metadata": {},
          "output_type": "display_data"
        },
        {
          "data": {
            "application/vnd.jupyter.widget-view+json": {
              "model_id": "",
              "version_major": 2,
              "version_minor": 0
            },
            "text/plain": [
              "FloatProgress(value=0.0, bar_style='info', description='Progress:', layout=Layout(height='25px', width='50%'),…"
            ]
          },
          "metadata": {},
          "output_type": "display_data"
        },
        {
          "name": "stdout",
          "output_type": "stream",
          "text": [
            "(129880, 129880)"
          ]
        }
      ],
      "source": [
        "airline_csv.count(), airline_csv.distinct().count()"
      ]
    },
    {
      "cell_type": "markdown",
      "id": "1a69d2bd",
      "metadata": {
        "id": "1a69d2bd"
      },
      "source": [
        "As shown above, there are no duplicates in the dataset."
      ]
    },
    {
      "cell_type": "markdown",
      "id": "8315da09",
      "metadata": {
        "id": "8315da09"
      },
      "source": [
        "Next, we will check to see if there are null vales in any of the columns."
      ]
    },
    {
      "cell_type": "code",
      "execution_count": null,
      "id": "8559886e",
      "metadata": {
        "id": "8559886e",
        "outputId": "1f9d37f4-9978-432f-8536-d0432ed93613",
        "colab": {
          "referenced_widgets": [
            "dcb21d6a99854c58b6131231ef801e13",
            ""
          ]
        }
      },
      "outputs": [
        {
          "data": {
            "application/vnd.jupyter.widget-view+json": {
              "model_id": "dcb21d6a99854c58b6131231ef801e13",
              "version_major": 2,
              "version_minor": 0
            },
            "text/plain": [
              "VBox()"
            ]
          },
          "metadata": {},
          "output_type": "display_data"
        },
        {
          "data": {
            "application/vnd.jupyter.widget-view+json": {
              "model_id": "",
              "version_major": 2,
              "version_minor": 0
            },
            "text/plain": [
              "FloatProgress(value=0.0, bar_style='info', description='Progress:', layout=Layout(height='25px', width='50%'),…"
            ]
          },
          "metadata": {},
          "output_type": "display_data"
        },
        {
          "name": "stdout",
          "output_type": "stream",
          "text": [
            "+---+---------------+------+-------------+---+--------------+-----+---------------+------------+---------------------------------+--------------+-------------+---------------------+----------------------+--------------+----------------------+----------------+----------------+----------------+---------------+-----------+---------------+--------------------------+------------------------+\n",
            "| id|satisfaction_v2|Gender|Customer Type|Age|Type of Travel|Class|Flight Distance|Seat comfort|Departure/Arrival time convenient|Food and drink|Gate location|Inflight wifi service|Inflight entertainment|Online support|Ease of Online booking|On-board service|Leg room service|Baggage handling|Checkin service|Cleanliness|Online boarding|Departure Delay in Minutes|Arrival Delay in Minutes|\n",
            "+---+---------------+------+-------------+---+--------------+-----+---------------+------------+---------------------------------+--------------+-------------+---------------------+----------------------+--------------+----------------------+----------------+----------------+----------------+---------------+-----------+---------------+--------------------------+------------------------+\n",
            "|  0|              0|     0|            0|  0|             0|    0|              0|           0|                                0|             0|            0|                    0|                     0|             0|                     0|               0|               0|               0|              0|          0|              0|                         0|                       0|\n",
            "+---+---------------+------+-------------+---+--------------+-----+---------------+------------+---------------------------------+--------------+-------------+---------------------+----------------------+--------------+----------------------+----------------+----------------+----------------+---------------+-----------+---------------+--------------------------+------------------------+"
          ]
        }
      ],
      "source": [
        "from pyspark.sql.functions import isnan, when, count, col\n",
        "airline_csv.select([count(when(isnan(c), c)).alias(c) for c in airline_csv.columns]).show()"
      ]
    },
    {
      "cell_type": "markdown",
      "id": "b7fbf31c",
      "metadata": {
        "id": "b7fbf31c"
      },
      "source": [
        "According to the chart, there are no null values in any column. However, we will use .dropna() just to be sure."
      ]
    },
    {
      "cell_type": "code",
      "execution_count": null,
      "id": "3ad3bfa0",
      "metadata": {
        "id": "3ad3bfa0",
        "outputId": "157e73e8-5c3b-4fb0-cf65-f6085294641d",
        "colab": {
          "referenced_widgets": [
            "459f9d01e30b44f8bcd38e32a478c02e",
            ""
          ]
        }
      },
      "outputs": [
        {
          "data": {
            "application/vnd.jupyter.widget-view+json": {
              "model_id": "459f9d01e30b44f8bcd38e32a478c02e",
              "version_major": 2,
              "version_minor": 0
            },
            "text/plain": [
              "VBox()"
            ]
          },
          "metadata": {},
          "output_type": "display_data"
        },
        {
          "data": {
            "application/vnd.jupyter.widget-view+json": {
              "model_id": "",
              "version_major": 2,
              "version_minor": 0
            },
            "text/plain": [
              "FloatProgress(value=0.0, bar_style='info', description='Progress:', layout=Layout(height='25px', width='50%'),…"
            ]
          },
          "metadata": {},
          "output_type": "display_data"
        }
      ],
      "source": [
        "airline_csv = airline_csv.dropna()"
      ]
    },
    {
      "cell_type": "markdown",
      "id": "1abc8661",
      "metadata": {
        "id": "1abc8661"
      },
      "source": [
        "Next, we must rename all columns so that there are no spaces in any column names."
      ]
    },
    {
      "cell_type": "code",
      "execution_count": null,
      "id": "46ae5813",
      "metadata": {
        "id": "46ae5813",
        "outputId": "8df78495-2e4c-4a0e-e9c2-fcd4b3232a65",
        "colab": {
          "referenced_widgets": [
            "d4af0aa1f25446c99bbe8c82ec98d83f",
            ""
          ]
        }
      },
      "outputs": [
        {
          "data": {
            "application/vnd.jupyter.widget-view+json": {
              "model_id": "d4af0aa1f25446c99bbe8c82ec98d83f",
              "version_major": 2,
              "version_minor": 0
            },
            "text/plain": [
              "VBox()"
            ]
          },
          "metadata": {},
          "output_type": "display_data"
        },
        {
          "data": {
            "application/vnd.jupyter.widget-view+json": {
              "model_id": "",
              "version_major": 2,
              "version_minor": 0
            },
            "text/plain": [
              "FloatProgress(value=0.0, bar_style='info', description='Progress:', layout=Layout(height='25px', width='50%'),…"
            ]
          },
          "metadata": {},
          "output_type": "display_data"
        },
        {
          "name": "stdout",
          "output_type": "stream",
          "text": [
            "root\n",
            " |-- id: integer (nullable = true)\n",
            " |-- satisfaction_v2: string (nullable = true)\n",
            " |-- Gender: string (nullable = true)\n",
            " |-- Customer Type: string (nullable = true)\n",
            " |-- Age: integer (nullable = true)\n",
            " |-- Type of Travel: string (nullable = true)\n",
            " |-- Class: string (nullable = true)\n",
            " |-- Flight Distance: integer (nullable = true)\n",
            " |-- Seat comfort: integer (nullable = true)\n",
            " |-- Departure/Arrival time convenient: integer (nullable = true)\n",
            " |-- Food and drink: integer (nullable = true)\n",
            " |-- Gate location: integer (nullable = true)\n",
            " |-- Inflight wifi service: integer (nullable = true)\n",
            " |-- Inflight entertainment: integer (nullable = true)\n",
            " |-- Online support: integer (nullable = true)\n",
            " |-- Ease of Online booking: integer (nullable = true)\n",
            " |-- On-board service: integer (nullable = true)\n",
            " |-- Leg room service: integer (nullable = true)\n",
            " |-- Baggage handling: integer (nullable = true)\n",
            " |-- Checkin service: integer (nullable = true)\n",
            " |-- Cleanliness: integer (nullable = true)\n",
            " |-- Online boarding: integer (nullable = true)\n",
            " |-- Departure Delay in Minutes: integer (nullable = true)\n",
            " |-- Arrival Delay in Minutes: integer (nullable = true)"
          ]
        }
      ],
      "source": [
        "airline_csv.printSchema()"
      ]
    },
    {
      "cell_type": "code",
      "execution_count": null,
      "id": "c38b1a8f",
      "metadata": {
        "id": "c38b1a8f",
        "outputId": "250dfaf9-874e-49fc-d583-fca92a4b68e7",
        "colab": {
          "referenced_widgets": [
            "94daa1b731fd4d2083da9bb3d4c7069b",
            ""
          ]
        }
      },
      "outputs": [
        {
          "data": {
            "application/vnd.jupyter.widget-view+json": {
              "model_id": "94daa1b731fd4d2083da9bb3d4c7069b",
              "version_major": 2,
              "version_minor": 0
            },
            "text/plain": [
              "VBox()"
            ]
          },
          "metadata": {},
          "output_type": "display_data"
        },
        {
          "data": {
            "application/vnd.jupyter.widget-view+json": {
              "model_id": "",
              "version_major": 2,
              "version_minor": 0
            },
            "text/plain": [
              "FloatProgress(value=0.0, bar_style='info', description='Progress:', layout=Layout(height='25px', width='50%'),…"
            ]
          },
          "metadata": {},
          "output_type": "display_data"
        },
        {
          "name": "stdout",
          "output_type": "stream",
          "text": [
            "root\n",
            " |-- id: integer (nullable = true)\n",
            " |-- satisfaction: string (nullable = true)\n",
            " |-- gender: string (nullable = true)\n",
            " |-- customer_type: string (nullable = true)\n",
            " |-- age: integer (nullable = true)\n",
            " |-- type_of_travel: string (nullable = true)\n",
            " |-- class: string (nullable = true)\n",
            " |-- flight_distance: integer (nullable = true)\n",
            " |-- seat_comfort: integer (nullable = true)\n",
            " |-- departure_arrival_time_convenient: integer (nullable = true)\n",
            " |-- food_and_drink: integer (nullable = true)\n",
            " |-- gate_location: integer (nullable = true)\n",
            " |-- inflight_wifi_service: integer (nullable = true)\n",
            " |-- inflight_entertainment: integer (nullable = true)\n",
            " |-- online_support: integer (nullable = true)\n",
            " |-- ease_of_online_booking: integer (nullable = true)\n",
            " |-- on_board_service: integer (nullable = true)\n",
            " |-- leg_room: integer (nullable = true)\n",
            " |-- baggage_handling: integer (nullable = true)\n",
            " |-- checkin_service: integer (nullable = true)\n",
            " |-- cleanliness: integer (nullable = true)\n",
            " |-- online_boarding: integer (nullable = true)\n",
            " |-- departure_delay_minutes: integer (nullable = true)\n",
            " |-- arrival_delay_minutes: integer (nullable = true)"
          ]
        }
      ],
      "source": [
        "re_airline_csv = airline_csv.withColumnRenamed(\"satisfaction_v2\", \"satisfaction\") \\\n",
        ".withColumnRenamed(\"Gender\", \"gender\") \\\n",
        ".withColumnRenamed(\"Customer Type\", \"customer_type\") \\\n",
        ".withColumnRenamed(\"Age\", \"age\") \\\n",
        ".withColumnRenamed(\"Type of Travel\", \"type_of_travel\") \\\n",
        ".withColumnRenamed(\"Class\", \"class\") \\\n",
        ".withColumnRenamed(\"Flight Distance\", \"flight_distance\") \\\n",
        ".withColumnRenamed(\"Seat Comfort\", \"seat_comfort\") \\\n",
        ".withColumnRenamed(\"Departure/Arrival time convenient\", \"departure_arrival_time_convenient\") \\\n",
        ".withColumnRenamed(\"Food and Drink\", \"food_and_drink\") \\\n",
        ".withColumnRenamed(\"Gate location\", \"gate_location\") \\\n",
        ".withColumnRenamed(\"Inflight wifi service\", \"inflight_wifi_service\") \\\n",
        ".withColumnRenamed(\"Inflight entertainment\", \"inflight_entertainment\") \\\n",
        ".withColumnRenamed(\"Online support\", \"online_support\") \\\n",
        ".withColumnRenamed(\"Ease of Online booking\", \"ease_of_online_booking\") \\\n",
        ".withColumnRenamed(\"On-board service\", \"on_board_service\") \\\n",
        ".withColumnRenamed(\"Leg room service\", \"leg_room\") \\\n",
        ".withColumnRenamed(\"Baggage handling\", \"baggage_handling\") \\\n",
        ".withColumnRenamed(\"Checkin service\", \"checkin_service\") \\\n",
        ".withColumnRenamed(\"Cleanliness\", \"cleanliness\") \\\n",
        ".withColumnRenamed(\"Online boarding\", \"online_boarding\") \\\n",
        ".withColumnRenamed(\"Departure Delay in Minutes\", \"departure_delay_minutes\") \\\n",
        ".withColumnRenamed(\"Arrival Delay in Minutes\", \"arrival_delay_minutes\")\n",
        "\n",
        "re_airline_csv.printSchema()"
      ]
    },
    {
      "cell_type": "markdown",
      "id": "20ce5756",
      "metadata": {
        "id": "20ce5756"
      },
      "source": [
        "We have successfully renamed all column names so that we have no spaces."
      ]
    },
    {
      "cell_type": "markdown",
      "id": "36738cb0",
      "metadata": {
        "id": "36738cb0"
      },
      "source": [
        "## Creating Dummies"
      ]
    },
    {
      "cell_type": "markdown",
      "id": "4eecc3fd",
      "metadata": {
        "id": "4eecc3fd"
      },
      "source": [
        "Before continuing, we have to convert all string columns to numeric values using dummies. Specifically, the columns we will be changing are: satisfaction, gender, customer_type, type_of_travel, and class."
      ]
    },
    {
      "cell_type": "code",
      "execution_count": null,
      "id": "608f53fd",
      "metadata": {
        "id": "608f53fd",
        "outputId": "84af8fdc-ec7a-436b-d415-6a687afb2067"
      },
      "outputs": [
        {
          "data": {
            "application/vnd.jupyter.widget-view+json": {
              "model_id": "1bec4a4f01db4e3a9d18e8a2ea9bd5e8",
              "version_major": 2,
              "version_minor": 0
            },
            "text/plain": [
              "VBox()"
            ]
          },
          "metadata": {},
          "output_type": "display_data"
        },
        {
          "data": {
            "application/vnd.jupyter.widget-view+json": {
              "model_id": "",
              "version_major": 2,
              "version_minor": 0
            },
            "text/plain": [
              "FloatProgress(value=0.0, bar_style='info', description='Progress:', layout=Layout(height='25px', width='50%'),…"
            ]
          },
          "metadata": {},
          "output_type": "display_data"
        }
      ],
      "source": [
        "import pyspark.sql.functions as f\n",
        "categorical_columns=[\"gender\", \"customer_type\", \"type_of_travel\", \"class\", \"satisfaction\"]\n",
        "expressions=[]\n",
        "for column in categorical_columns:\n",
        "    expression = re_airline_csv.select(column).distinct().rdd.flatMap(lambda x: x).collect()\n",
        "    types_expr = [f.when(f.col(column) == ty, 1).otherwise(0).alias(\"e_{}_{}\".format(column, ty)) for ty in expression]\n",
        "    expressions += types_expr\n",
        "dum_airline_csv = re_airline_csv.select(\"id\", \"age\", \"flight_distance\", \"seat_comfort\", \"departure_arrival_time_convenient\",\n",
        "                                        \"food_and_drink\", \"gate_location\", \"inflight_wifi_service\", \"inflight_entertainment\",\n",
        "                                        \"online_support\", \"ease_of_online_booking\", \"on_board_service\", \"leg_room\",\n",
        "                                        \"baggage_handling\", \"checkin_service\", \"cleanliness\", \"online_boarding\",\n",
        "                                        \"departure_delay_minutes\", \"arrival_delay_minutes\", *categorical_columns, *expressions)"
      ]
    },
    {
      "cell_type": "code",
      "execution_count": null,
      "id": "98bf8fe5",
      "metadata": {
        "id": "98bf8fe5",
        "outputId": "c86564a3-416e-4618-80df-276e8e6ea177"
      },
      "outputs": [
        {
          "data": {
            "application/vnd.jupyter.widget-view+json": {
              "model_id": "a953dc3a55a84c6ab3c0d497b47ad64f",
              "version_major": 2,
              "version_minor": 0
            },
            "text/plain": [
              "VBox()"
            ]
          },
          "metadata": {},
          "output_type": "display_data"
        },
        {
          "data": {
            "application/vnd.jupyter.widget-view+json": {
              "model_id": "",
              "version_major": 2,
              "version_minor": 0
            },
            "text/plain": [
              "FloatProgress(value=0.0, bar_style='info', description='Progress:', layout=Layout(height='25px', width='50%'),…"
            ]
          },
          "metadata": {},
          "output_type": "display_data"
        },
        {
          "name": "stdout",
          "output_type": "stream",
          "text": [
            "+------+---+---------------+------------+---------------------------------+--------------+-------------+---------------------+----------------------+--------------+----------------------+----------------+--------+----------------+---------------+-----------+---------------+-----------------------+---------------------+------+--------------+---------------+--------+------------+-------------+---------------+------------------------------+---------------------------------+--------------------------------+--------------------------------+----------------+----------------+-----------+--------------------------------------+------------------------+\n",
            "|    id|age|flight_distance|seat_comfort|departure_arrival_time_convenient|food_and_drink|gate_location|inflight_wifi_service|inflight_entertainment|online_support|ease_of_online_booking|on_board_service|leg_room|baggage_handling|checkin_service|cleanliness|online_boarding|departure_delay_minutes|arrival_delay_minutes|gender| customer_type| type_of_travel|   class|satisfaction|e_gender_Male|e_gender_Female|e_customer_type_Loyal Customer|e_customer_type_disloyal Customer|e_type_of_travel_Personal Travel|e_type_of_travel_Business travel|e_class_Eco Plus|e_class_Business|e_class_Eco|e_satisfaction_neutral or dissatisfied|e_satisfaction_satisfied|\n",
            "+------+---+---------------+------------+---------------------------------+--------------+-------------+---------------------+----------------------+--------------+----------------------+----------------+--------+----------------+---------------+-----------+---------------+-----------------------+---------------------+------+--------------+---------------+--------+------------+-------------+---------------+------------------------------+---------------------------------+--------------------------------+--------------------------------+----------------+----------------+-----------+--------------------------------------+------------------------+\n",
            "| 11112| 65|            265|           0|                                0|             0|            2|                    2|                     4|             2|                     3|               3|       0|               3|              5|          3|              2|                      0|                    0|Female|Loyal Customer|Personal Travel|     Eco|   satisfied|            0|              1|                             1|                                0|                               1|                               0|               0|               0|          1|                                     0|                       1|\n",
            "|110278| 47|           2464|           0|                                0|             0|            3|                    0|                     2|             2|                     3|               4|       4|               4|              2|          3|              2|                    310|                  305|  Male|Loyal Customer|Personal Travel|Business|   satisfied|            1|              0|                             1|                                0|                               1|                               0|               0|               1|          0|                                     0|                       1|\n",
            "|103199| 15|           2138|           0|                                0|             0|            3|                    2|                     0|             2|                     2|               3|       3|               4|              4|          4|              2|                      0|                    0|Female|Loyal Customer|Personal Travel|     Eco|   satisfied|            0|              1|                             1|                                0|                               1|                               0|               0|               0|          1|                                     0|                       1|\n",
            "+------+---+---------------+------------+---------------------------------+--------------+-------------+---------------------+----------------------+--------------+----------------------+----------------+--------+----------------+---------------+-----------+---------------+-----------------------+---------------------+------+--------------+---------------+--------+------------+-------------+---------------+------------------------------+---------------------------------+--------------------------------+--------------------------------+----------------+----------------+-----------+--------------------------------------+------------------------+\n",
            "only showing top 3 rows"
          ]
        }
      ],
      "source": [
        "dum_airline_csv.show(3)"
      ]
    },
    {
      "cell_type": "markdown",
      "id": "7039ecef",
      "metadata": {
        "id": "7039ecef"
      },
      "source": [
        "Now, we have to drop the unnecessary columns for gender, satisfaction, customer_type, and type_of_travel. This is because there are only two categories for these columns and it is unnecessary having more than one column. We will also rename the columns for better readability."
      ]
    },
    {
      "cell_type": "code",
      "execution_count": null,
      "id": "a0448d71",
      "metadata": {
        "id": "a0448d71",
        "outputId": "643f0f84-3932-40a8-9bdd-9db8b3cce11a"
      },
      "outputs": [
        {
          "data": {
            "application/vnd.jupyter.widget-view+json": {
              "model_id": "6ff980c4daa24ebe868f08cae2c6f70b",
              "version_major": 2,
              "version_minor": 0
            },
            "text/plain": [
              "VBox()"
            ]
          },
          "metadata": {},
          "output_type": "display_data"
        },
        {
          "data": {
            "application/vnd.jupyter.widget-view+json": {
              "model_id": "",
              "version_major": 2,
              "version_minor": 0
            },
            "text/plain": [
              "FloatProgress(value=0.0, bar_style='info', description='Progress:', layout=Layout(height='25px', width='50%'),…"
            ]
          },
          "metadata": {},
          "output_type": "display_data"
        },
        {
          "name": "stdout",
          "output_type": "stream",
          "text": [
            "root\n",
            " |-- id: integer (nullable = true)\n",
            " |-- age: integer (nullable = true)\n",
            " |-- flight_distance: integer (nullable = true)\n",
            " |-- seat_comfort: integer (nullable = true)\n",
            " |-- departure_arrival_time_convenient: integer (nullable = true)\n",
            " |-- food_and_drink: integer (nullable = true)\n",
            " |-- gate_location: integer (nullable = true)\n",
            " |-- inflight_wifi_service: integer (nullable = true)\n",
            " |-- inflight_entertainment: integer (nullable = true)\n",
            " |-- online_support: integer (nullable = true)\n",
            " |-- ease_of_online_booking: integer (nullable = true)\n",
            " |-- on_board_service: integer (nullable = true)\n",
            " |-- leg_room: integer (nullable = true)\n",
            " |-- baggage_handling: integer (nullable = true)\n",
            " |-- checkin_service: integer (nullable = true)\n",
            " |-- cleanliness: integer (nullable = true)\n",
            " |-- online_boarding: integer (nullable = true)\n",
            " |-- departure_delay_minutes: integer (nullable = true)\n",
            " |-- arrival_delay_minutes: integer (nullable = true)\n",
            " |-- gender: string (nullable = true)\n",
            " |-- customer_type: string (nullable = true)\n",
            " |-- type_of_travel: string (nullable = true)\n",
            " |-- class: string (nullable = true)\n",
            " |-- satisfaction: string (nullable = true)\n",
            " |-- e_gender_Male: integer (nullable = false)\n",
            " |-- e_gender_Female: integer (nullable = false)\n",
            " |-- e_customer_type_Loyal Customer: integer (nullable = false)\n",
            " |-- e_customer_type_disloyal Customer: integer (nullable = false)\n",
            " |-- e_type_of_travel_Personal Travel: integer (nullable = false)\n",
            " |-- e_type_of_travel_Business travel: integer (nullable = false)\n",
            " |-- e_class_Eco Plus: integer (nullable = false)\n",
            " |-- e_class_Business: integer (nullable = false)\n",
            " |-- e_class_Eco: integer (nullable = false)\n",
            " |-- e_satisfaction_neutral or dissatisfied: integer (nullable = false)\n",
            " |-- e_satisfaction_satisfied: integer (nullable = false)"
          ]
        }
      ],
      "source": [
        "dum_airline_csv.printSchema()"
      ]
    },
    {
      "cell_type": "code",
      "execution_count": null,
      "id": "328a28fc",
      "metadata": {
        "id": "328a28fc",
        "outputId": "cbae4b88-dfa8-4ba6-a1d7-259e088a4145"
      },
      "outputs": [
        {
          "data": {
            "application/vnd.jupyter.widget-view+json": {
              "model_id": "1fcf81c625a6498283c5203cef69f011",
              "version_major": 2,
              "version_minor": 0
            },
            "text/plain": [
              "VBox()"
            ]
          },
          "metadata": {},
          "output_type": "display_data"
        },
        {
          "data": {
            "application/vnd.jupyter.widget-view+json": {
              "model_id": "",
              "version_major": 2,
              "version_minor": 0
            },
            "text/plain": [
              "FloatProgress(value=0.0, bar_style='info', description='Progress:', layout=Layout(height='25px', width='50%'),…"
            ]
          },
          "metadata": {},
          "output_type": "display_data"
        }
      ],
      "source": [
        "columns_to_drop = (\"satisfaction\", \"gender\", \"customer_type\", \"type_of_travel\", \"class\", \n",
        "                   \"e_satisfaction_neutral or dissatisfied\", \"e_gender_male\", \"e_customer_type_disloyal Customer\",\n",
        "                  \"e_type_of_travel_Business travel\")\n",
        "dum_airline_csv = dum_airline_csv.drop(*columns_to_drop)"
      ]
    },
    {
      "cell_type": "code",
      "execution_count": null,
      "id": "830a5d8d",
      "metadata": {
        "id": "830a5d8d",
        "outputId": "d8873b71-a8d0-4fab-b835-dc0833ed5cdd"
      },
      "outputs": [
        {
          "data": {
            "application/vnd.jupyter.widget-view+json": {
              "model_id": "68689aa38a3c464da22cf1519631f78c",
              "version_major": 2,
              "version_minor": 0
            },
            "text/plain": [
              "VBox()"
            ]
          },
          "metadata": {},
          "output_type": "display_data"
        },
        {
          "data": {
            "application/vnd.jupyter.widget-view+json": {
              "model_id": "",
              "version_major": 2,
              "version_minor": 0
            },
            "text/plain": [
              "FloatProgress(value=0.0, bar_style='info', description='Progress:', layout=Layout(height='25px', width='50%'),…"
            ]
          },
          "metadata": {},
          "output_type": "display_data"
        },
        {
          "name": "stdout",
          "output_type": "stream",
          "text": [
            "root\n",
            " |-- id: integer (nullable = true)\n",
            " |-- age: integer (nullable = true)\n",
            " |-- flight_distance: integer (nullable = true)\n",
            " |-- seat_comfort: integer (nullable = true)\n",
            " |-- departure_arrival_time_convenient: integer (nullable = true)\n",
            " |-- food_and_drink: integer (nullable = true)\n",
            " |-- gate_location: integer (nullable = true)\n",
            " |-- inflight_wifi_service: integer (nullable = true)\n",
            " |-- inflight_entertainment: integer (nullable = true)\n",
            " |-- online_support: integer (nullable = true)\n",
            " |-- ease_of_online_booking: integer (nullable = true)\n",
            " |-- on_board_service: integer (nullable = true)\n",
            " |-- leg_room: integer (nullable = true)\n",
            " |-- baggage_handling: integer (nullable = true)\n",
            " |-- checkin_service: integer (nullable = true)\n",
            " |-- cleanliness: integer (nullable = true)\n",
            " |-- online_boarding: integer (nullable = true)\n",
            " |-- departure_delay_minutes: integer (nullable = true)\n",
            " |-- arrival_delay_minutes: integer (nullable = true)\n",
            " |-- e_gender_Female: integer (nullable = false)\n",
            " |-- e_customer_type_Loyal Customer: integer (nullable = false)\n",
            " |-- e_type_of_travel_Personal Travel: integer (nullable = false)\n",
            " |-- e_class_Eco Plus: integer (nullable = false)\n",
            " |-- e_class_Business: integer (nullable = false)\n",
            " |-- e_class_Eco: integer (nullable = false)\n",
            " |-- e_satisfaction_satisfied: integer (nullable = false)"
          ]
        }
      ],
      "source": [
        "dum_airline_csv.printSchema()"
      ]
    },
    {
      "cell_type": "code",
      "execution_count": null,
      "id": "0dfddeca",
      "metadata": {
        "id": "0dfddeca",
        "outputId": "95aa5c12-537e-484a-c802-0163100b6b0c"
      },
      "outputs": [
        {
          "data": {
            "application/vnd.jupyter.widget-view+json": {
              "model_id": "2748f7051617417583d574906ec5d649",
              "version_major": 2,
              "version_minor": 0
            },
            "text/plain": [
              "VBox()"
            ]
          },
          "metadata": {},
          "output_type": "display_data"
        },
        {
          "data": {
            "application/vnd.jupyter.widget-view+json": {
              "model_id": "",
              "version_major": 2,
              "version_minor": 0
            },
            "text/plain": [
              "FloatProgress(value=0.0, bar_style='info', description='Progress:', layout=Layout(height='25px', width='50%'),…"
            ]
          },
          "metadata": {},
          "output_type": "display_data"
        }
      ],
      "source": [
        "dum_airline_csv = dum_airline_csv.withColumnRenamed(\"e_satisfaction_satisfied\", \"satisfied\") \\\n",
        ".withColumnRenamed(\"e_gender_Female\", \"female\") \\\n",
        ".withColumnRenamed(\"e_customer_type_Loyal Customer\", \"loyal_customer\") \\\n",
        ".withColumnRenamed(\"e_type_of_travel_Personal Travel\", \"personal_travel\") \\\n",
        ".withColumnRenamed(\"e_class_Eco Plus\", \"eco_plus\") \\\n",
        ".withColumnRenamed(\"e_class_Business\", \"business\") \\\n",
        ".withColumnRenamed(\"e_class_Eco\", \"eco\")"
      ]
    },
    {
      "cell_type": "code",
      "execution_count": null,
      "id": "5fadc4a2",
      "metadata": {
        "id": "5fadc4a2",
        "outputId": "6c2b3815-41ed-4a7a-b18f-8c0ab16dde90"
      },
      "outputs": [
        {
          "data": {
            "application/vnd.jupyter.widget-view+json": {
              "model_id": "f7b9692805764cb5af4b3d8cf266cdeb",
              "version_major": 2,
              "version_minor": 0
            },
            "text/plain": [
              "VBox()"
            ]
          },
          "metadata": {},
          "output_type": "display_data"
        },
        {
          "data": {
            "application/vnd.jupyter.widget-view+json": {
              "model_id": "",
              "version_major": 2,
              "version_minor": 0
            },
            "text/plain": [
              "FloatProgress(value=0.0, bar_style='info', description='Progress:', layout=Layout(height='25px', width='50%'),…"
            ]
          },
          "metadata": {},
          "output_type": "display_data"
        },
        {
          "name": "stdout",
          "output_type": "stream",
          "text": [
            "root\n",
            " |-- id: integer (nullable = true)\n",
            " |-- age: integer (nullable = true)\n",
            " |-- flight_distance: integer (nullable = true)\n",
            " |-- seat_comfort: integer (nullable = true)\n",
            " |-- departure_arrival_time_convenient: integer (nullable = true)\n",
            " |-- food_and_drink: integer (nullable = true)\n",
            " |-- gate_location: integer (nullable = true)\n",
            " |-- inflight_wifi_service: integer (nullable = true)\n",
            " |-- inflight_entertainment: integer (nullable = true)\n",
            " |-- online_support: integer (nullable = true)\n",
            " |-- ease_of_online_booking: integer (nullable = true)\n",
            " |-- on_board_service: integer (nullable = true)\n",
            " |-- leg_room: integer (nullable = true)\n",
            " |-- baggage_handling: integer (nullable = true)\n",
            " |-- checkin_service: integer (nullable = true)\n",
            " |-- cleanliness: integer (nullable = true)\n",
            " |-- online_boarding: integer (nullable = true)\n",
            " |-- departure_delay_minutes: integer (nullable = true)\n",
            " |-- arrival_delay_minutes: integer (nullable = true)\n",
            " |-- female: integer (nullable = false)\n",
            " |-- loyal_customer: integer (nullable = false)\n",
            " |-- personal_travel: integer (nullable = false)\n",
            " |-- eco_plus: integer (nullable = false)\n",
            " |-- business: integer (nullable = false)\n",
            " |-- eco: integer (nullable = false)\n",
            " |-- satisfied: integer (nullable = false)"
          ]
        }
      ],
      "source": [
        "dum_airline_csv.printSchema()"
      ]
    },
    {
      "cell_type": "code",
      "execution_count": null,
      "id": "c8a4b34e",
      "metadata": {
        "id": "c8a4b34e",
        "outputId": "b8ce9a96-0e18-492c-8954-09d1326eff24"
      },
      "outputs": [
        {
          "data": {
            "application/vnd.jupyter.widget-view+json": {
              "model_id": "8f5a4b0bdfdb4efe8dd64ac6f06bb6d2",
              "version_major": 2,
              "version_minor": 0
            },
            "text/plain": [
              "VBox()"
            ]
          },
          "metadata": {},
          "output_type": "display_data"
        },
        {
          "data": {
            "application/vnd.jupyter.widget-view+json": {
              "model_id": "",
              "version_major": 2,
              "version_minor": 0
            },
            "text/plain": [
              "FloatProgress(value=0.0, bar_style='info', description='Progress:', layout=Layout(height='25px', width='50%'),…"
            ]
          },
          "metadata": {},
          "output_type": "display_data"
        },
        {
          "name": "stdout",
          "output_type": "stream",
          "text": [
            "+------+---+---------------+------------+---------------------------------+--------------+-------------+---------------------+----------------------+--------------+----------------------+----------------+--------+----------------+---------------+-----------+---------------+-----------------------+---------------------+------+--------------+---------------+--------+--------+---+---------+\n",
            "|    id|age|flight_distance|seat_comfort|departure_arrival_time_convenient|food_and_drink|gate_location|inflight_wifi_service|inflight_entertainment|online_support|ease_of_online_booking|on_board_service|leg_room|baggage_handling|checkin_service|cleanliness|online_boarding|departure_delay_minutes|arrival_delay_minutes|female|loyal_customer|personal_travel|eco_plus|business|eco|satisfied|\n",
            "+------+---+---------------+------------+---------------------------------+--------------+-------------+---------------------+----------------------+--------------+----------------------+----------------+--------+----------------+---------------+-----------+---------------+-----------------------+---------------------+------+--------------+---------------+--------+--------+---+---------+\n",
            "| 11112| 65|            265|           0|                                0|             0|            2|                    2|                     4|             2|                     3|               3|       0|               3|              5|          3|              2|                      0|                    0|     1|             1|              1|       0|       0|  1|        1|\n",
            "|110278| 47|           2464|           0|                                0|             0|            3|                    0|                     2|             2|                     3|               4|       4|               4|              2|          3|              2|                    310|                  305|     0|             1|              1|       0|       1|  0|        1|\n",
            "|103199| 15|           2138|           0|                                0|             0|            3|                    2|                     0|             2|                     2|               3|       3|               4|              4|          4|              2|                      0|                    0|     1|             1|              1|       0|       0|  1|        1|\n",
            "| 47462| 60|            623|           0|                                0|             0|            3|                    3|                     4|             3|                     1|               1|       0|               1|              4|          1|              3|                      0|                    0|     1|             1|              1|       0|       0|  1|        1|\n",
            "|120011| 70|            354|           0|                                0|             0|            3|                    4|                     3|             4|                     2|               2|       0|               2|              4|          2|              5|                      0|                    0|     1|             1|              1|       0|       0|  1|        1|\n",
            "+------+---+---------------+------------+---------------------------------+--------------+-------------+---------------------+----------------------+--------------+----------------------+----------------+--------+----------------+---------------+-----------+---------------+-----------------------+---------------------+------+--------------+---------------+--------+--------+---+---------+\n",
            "only showing top 5 rows"
          ]
        }
      ],
      "source": [
        "dum_airline_csv.show(5)"
      ]
    },
    {
      "cell_type": "markdown",
      "id": "d6f36a32",
      "metadata": {
        "id": "d6f36a32"
      },
      "source": [
        "Our data is now transformed and we are ready to check correlations and create a pipeline and model. We created dummies for 5 columns. 4 columns were \"n-1\" and 1 column was \"n\" dummies."
      ]
    },
    {
      "cell_type": "markdown",
      "id": "43e5aa5c",
      "metadata": {
        "id": "43e5aa5c"
      },
      "source": [
        "# Correlations and Interpretations"
      ]
    },
    {
      "cell_type": "markdown",
      "id": "58b2c8f3",
      "metadata": {
        "id": "58b2c8f3"
      },
      "source": [
        "Here, we will create correlations tables to see what columns are correlated with each other."
      ]
    },
    {
      "cell_type": "code",
      "execution_count": null,
      "id": "4525d916",
      "metadata": {
        "id": "4525d916",
        "outputId": "c767ee85-abaa-46a2-a59b-1e110ba3eda4",
        "colab": {
          "referenced_widgets": [
            "8933ff13da914cf298ebd695facc3dc9",
            ""
          ]
        }
      },
      "outputs": [
        {
          "data": {
            "application/vnd.jupyter.widget-view+json": {
              "model_id": "8933ff13da914cf298ebd695facc3dc9",
              "version_major": 2,
              "version_minor": 0
            },
            "text/plain": [
              "VBox()"
            ]
          },
          "metadata": {},
          "output_type": "display_data"
        },
        {
          "data": {
            "application/vnd.jupyter.widget-view+json": {
              "model_id": "",
              "version_major": 2,
              "version_minor": 0
            },
            "text/plain": [
              "FloatProgress(value=0.0, bar_style='info', description='Progress:', layout=Layout(height='25px', width='50%'),…"
            ]
          },
          "metadata": {},
          "output_type": "display_data"
        },
        {
          "name": "stdout",
          "output_type": "stream",
          "text": [
            "+---------------+---------+-------------------+--------------------+--------------------+--------------------+\n",
            "|         Column|satisfied|                age|     flight_distance|              female|      loyal_customer|\n",
            "+---------------+---------+-------------------+--------------------+--------------------+--------------------+\n",
            "|      satisfied|      1.0|0.11791263646280749|-0.03913285288944289| 0.21205024349542503|  0.2925625580192301|\n",
            "|            age|     null|                1.0|-0.24943817760589548|-0.00898365375217...|  0.2842753859512764|\n",
            "|flight_distance|     null|               null|                 1.0|-0.12075476065714706|-0.01904370686465537|\n",
            "|         female|     null|               null|                null|                 1.0|-0.03080345215123...|\n",
            "| loyal_customer|     null|               null|                null|                null|                 1.0|\n",
            "+---------------+---------+-------------------+--------------------+--------------------+--------------------+"
          ]
        }
      ],
      "source": [
        "features = [\"satisfied\", \"age\", \"flight_distance\", \"female\", \"loyal_customer\"]\n",
        "n_features = len(features)\n",
        "\n",
        "corr = []\n",
        "\n",
        "for i in range(0, n_features):\n",
        "    temp = [None] * i\n",
        "\n",
        "    for j in range(i, n_features):\n",
        "        temp.append(dum_airline_csv.corr(features[i], features[j]))\n",
        "    corr.append([features[i]] + temp)\n",
        "\n",
        "correlations = spark.createDataFrame(corr, ['Column'] + features)\n",
        "\n",
        "correlations.show()"
      ]
    },
    {
      "cell_type": "markdown",
      "id": "e655d9ad",
      "metadata": {
        "id": "e655d9ad"
      },
      "source": [
        "By the looks of this table, satisfaction is not very correlated at all with age, flight distance, gender, or customer loyalty. Let's try another table with some different columns."
      ]
    },
    {
      "cell_type": "code",
      "execution_count": null,
      "id": "9f015e95",
      "metadata": {
        "id": "9f015e95",
        "outputId": "bc936c27-4318-4e8e-cb1b-8d8da4d08328",
        "colab": {
          "referenced_widgets": [
            "344516066b9548f4833a8b5567af91ec",
            ""
          ]
        }
      },
      "outputs": [
        {
          "data": {
            "application/vnd.jupyter.widget-view+json": {
              "model_id": "344516066b9548f4833a8b5567af91ec",
              "version_major": 2,
              "version_minor": 0
            },
            "text/plain": [
              "VBox()"
            ]
          },
          "metadata": {},
          "output_type": "display_data"
        },
        {
          "data": {
            "application/vnd.jupyter.widget-view+json": {
              "model_id": "",
              "version_major": 2,
              "version_minor": 0
            },
            "text/plain": [
              "FloatProgress(value=0.0, bar_style='info', description='Progress:', layout=Layout(height='25px', width='50%'),…"
            ]
          },
          "metadata": {},
          "output_type": "display_data"
        },
        {
          "name": "stdout",
          "output_type": "stream",
          "text": [
            "+--------------------+---------+-------------------+-------------------+---------------------+----------------------+\n",
            "|              Column|satisfied|       seat_comfort|     food_and_drink|inflight_wifi_service|inflight_entertainment|\n",
            "+--------------------+---------+-------------------+-------------------+---------------------+----------------------+\n",
            "|           satisfied|      1.0|0.24237090064924635|0.12056826384376021|  0.22700974166867785|    0.5233635360253334|\n",
            "|        seat_comfort|     null|                1.0| 0.7160076670175409|  0.12915196111305233|    0.4264879448156278|\n",
            "|      food_and_drink|     null|               null|                1.0| 0.026076740181571335|    0.3677768909458935|\n",
            "|inflight_wifi_ser...|     null|               null|               null|                  1.0|    0.2539405809633243|\n",
            "|inflight_entertai...|     null|               null|               null|                 null|                   1.0|\n",
            "+--------------------+---------+-------------------+-------------------+---------------------+----------------------+"
          ]
        }
      ],
      "source": [
        "features = [\"satisfied\", \"seat_comfort\", \"food_and_drink\", \"inflight_wifi_service\", \"inflight_entertainment\"]\n",
        "n_features = len(features)\n",
        "\n",
        "corr = []\n",
        "\n",
        "for i in range(0, n_features):\n",
        "    temp = [None] * i\n",
        "\n",
        "    for j in range(i, n_features):\n",
        "        temp.append(dum_airline_csv.corr(features[i], features[j]))\n",
        "    corr.append([features[i]] + temp)\n",
        "\n",
        "correlations = spark.createDataFrame(corr, ['Column'] + features)\n",
        "\n",
        "correlations.show()"
      ]
    },
    {
      "cell_type": "markdown",
      "id": "17ac0aaa",
      "metadata": {
        "id": "17ac0aaa"
      },
      "source": [
        "Nothing in this chart is highly correlated either. We have a slightly higher correlation with inflight entertainment and satisfaction, but nothing too significant. Let's do another chart."
      ]
    },
    {
      "cell_type": "code",
      "execution_count": null,
      "id": "72bdc3b3",
      "metadata": {
        "id": "72bdc3b3",
        "outputId": "01fdba53-7cf5-4c1d-a76f-27f8f2bbedd9",
        "colab": {
          "referenced_widgets": [
            "de92edadac8d47e48d70133df3f5a470",
            ""
          ]
        }
      },
      "outputs": [
        {
          "data": {
            "application/vnd.jupyter.widget-view+json": {
              "model_id": "de92edadac8d47e48d70133df3f5a470",
              "version_major": 2,
              "version_minor": 0
            },
            "text/plain": [
              "VBox()"
            ]
          },
          "metadata": {},
          "output_type": "display_data"
        },
        {
          "data": {
            "application/vnd.jupyter.widget-view+json": {
              "model_id": "",
              "version_major": 2,
              "version_minor": 0
            },
            "text/plain": [
              "FloatProgress(value=0.0, bar_style='info', description='Progress:', layout=Layout(height='25px', width='50%'),…"
            ]
          },
          "metadata": {},
          "output_type": "display_data"
        },
        {
          "name": "stdout",
          "output_type": "stream",
          "text": [
            "+--------------------+---------+-----------------------+---------------------+--------------------+--------------------+\n",
            "|              Column|satisfied|departure_delay_minutes|arrival_delay_minutes|     checkin_service|    baggage_handling|\n",
            "+--------------------+---------+-----------------------+---------------------+--------------------+--------------------+\n",
            "|           satisfied|      1.0|    -0.0739598066163831| -0.08069079792257178|  0.2660889062029779|  0.2603982133177219|\n",
            "|departure_delay_m...|     null|                    1.0|   0.9652911835463222|-0.02073443430462327|-0.01029693139684...|\n",
            "|arrival_delay_min...|     null|                   null|                  1.0|-0.02385972574351...|-0.01416436335572...|\n",
            "|     checkin_service|     null|                   null|                 null|                 1.0| 0.24120295959485144|\n",
            "|    baggage_handling|     null|                   null|                 null|                null|                 1.0|\n",
            "+--------------------+---------+-----------------------+---------------------+--------------------+--------------------+"
          ]
        }
      ],
      "source": [
        "features = [\"satisfied\", \"departure_delay_minutes\", \"arrival_delay_minutes\", \"checkin_service\", \"baggage_handling\"]\n",
        "n_features = len(features)\n",
        "\n",
        "corr = []\n",
        "\n",
        "for i in range(0, n_features):\n",
        "    temp = [None] * i\n",
        "\n",
        "    for j in range(i, n_features):\n",
        "        temp.append(dum_airline_csv.corr(features[i], features[j]))\n",
        "    corr.append([features[i]] + temp)\n",
        "\n",
        "correlations = spark.createDataFrame(corr, ['Column'] + features)\n",
        "\n",
        "correlations.show()"
      ]
    },
    {
      "cell_type": "markdown",
      "id": "f986873d",
      "metadata": {
        "id": "f986873d"
      },
      "source": [
        "Correlation in this chart is not great across the columns, but it is clear that check-in service and baggage handling have stronger correlation to satisfaction than departure and arrival delays."
      ]
    },
    {
      "cell_type": "code",
      "execution_count": null,
      "id": "2125317e",
      "metadata": {
        "id": "2125317e",
        "outputId": "3bdebc5b-6035-4d7d-8f7a-5be00c896e7f",
        "colab": {
          "referenced_widgets": [
            "fb055a0f2f714220b47cfa6a82f8c082",
            ""
          ]
        }
      },
      "outputs": [
        {
          "data": {
            "application/vnd.jupyter.widget-view+json": {
              "model_id": "fb055a0f2f714220b47cfa6a82f8c082",
              "version_major": 2,
              "version_minor": 0
            },
            "text/plain": [
              "VBox()"
            ]
          },
          "metadata": {},
          "output_type": "display_data"
        },
        {
          "data": {
            "application/vnd.jupyter.widget-view+json": {
              "model_id": "",
              "version_major": 2,
              "version_minor": 0
            },
            "text/plain": [
              "FloatProgress(value=0.0, bar_style='info', description='Progress:', layout=Layout(height='25px', width='50%'),…"
            ]
          },
          "metadata": {},
          "output_type": "display_data"
        },
        {
          "name": "stdout",
          "output_type": "stream",
          "text": [
            "+----------------+---------+-------------------+------------------+-------------------+--------------------+\n",
            "|          Column|satisfied|        cleanliness|  on_board_service|           leg_room|       gate_location|\n",
            "+----------------+---------+-------------------+------------------+-------------------+--------------------+\n",
            "|       satisfied|      1.0|0.25950405193992643|0.3522826069616563| 0.3051154393707849|-0.01227219686523...|\n",
            "|     cleanliness|     null|                1.0|0.5511369213884671|0.41168152443982475|-0.00178932652854...|\n",
            "|on_board_service|     null|               null|               1.0| 0.4118765989152811|-0.02534613054994...|\n",
            "|        leg_room|     null|               null|              null|                1.0|-0.00746172126748...|\n",
            "|   gate_location|     null|               null|              null|               null|                 1.0|\n",
            "+----------------+---------+-------------------+------------------+-------------------+--------------------+"
          ]
        }
      ],
      "source": [
        "features = [\"satisfied\", \"cleanliness\", \"on_board_service\", \"leg_room\", \"gate_location\"]\n",
        "n_features = len(features)\n",
        "\n",
        "corr = []\n",
        "\n",
        "for i in range(0, n_features):\n",
        "    temp = [None] * i\n",
        "\n",
        "    for j in range(i, n_features):\n",
        "        temp.append(dum_airline_csv.corr(features[i], features[j]))\n",
        "    corr.append([features[i]] + temp)\n",
        "\n",
        "correlations = spark.createDataFrame(corr, ['Column'] + features)\n",
        "\n",
        "correlations.show()"
      ]
    },
    {
      "cell_type": "markdown",
      "id": "1bc81bd8",
      "metadata": {
        "id": "1bc81bd8"
      },
      "source": [
        "Lastly, we can see that cleanliness, on board service, and leg room have stronger correlation to satisfaction than gate location. Still, these numbers are not very high."
      ]
    },
    {
      "cell_type": "code",
      "execution_count": null,
      "id": "1bf42222",
      "metadata": {
        "id": "1bf42222",
        "outputId": "0a6b7964-eddf-4402-a881-40ffeddf88d5",
        "colab": {
          "referenced_widgets": [
            "c2f6458a167444ba819f076c3fcd2688",
            ""
          ]
        }
      },
      "outputs": [
        {
          "data": {
            "application/vnd.jupyter.widget-view+json": {
              "model_id": "c2f6458a167444ba819f076c3fcd2688",
              "version_major": 2,
              "version_minor": 0
            },
            "text/plain": [
              "VBox()"
            ]
          },
          "metadata": {},
          "output_type": "display_data"
        },
        {
          "data": {
            "application/vnd.jupyter.widget-view+json": {
              "model_id": "",
              "version_major": 2,
              "version_minor": 0
            },
            "text/plain": [
              "FloatProgress(value=0.0, bar_style='info', description='Progress:', layout=Layout(height='25px', width='50%'),…"
            ]
          },
          "metadata": {},
          "output_type": "display_data"
        },
        {
          "name": "stdout",
          "output_type": "stream",
          "text": [
            "root\n",
            " |-- id: integer (nullable = true)\n",
            " |-- age: integer (nullable = true)\n",
            " |-- flight_distance: integer (nullable = true)\n",
            " |-- seat_comfort: integer (nullable = true)\n",
            " |-- departure_arrival_time_convenient: integer (nullable = true)\n",
            " |-- food_and_drink: integer (nullable = true)\n",
            " |-- gate_location: integer (nullable = true)\n",
            " |-- inflight_wifi_service: integer (nullable = true)\n",
            " |-- inflight_entertainment: integer (nullable = true)\n",
            " |-- online_support: integer (nullable = true)\n",
            " |-- ease_of_online_booking: integer (nullable = true)\n",
            " |-- on_board_service: integer (nullable = true)\n",
            " |-- leg_room: integer (nullable = true)\n",
            " |-- baggage_handling: integer (nullable = true)\n",
            " |-- checkin_service: integer (nullable = true)\n",
            " |-- cleanliness: integer (nullable = true)\n",
            " |-- online_boarding: integer (nullable = true)\n",
            " |-- departure_delay_minutes: integer (nullable = true)\n",
            " |-- arrival_delay_minutes: integer (nullable = true)\n",
            " |-- female: integer (nullable = false)\n",
            " |-- loyal_customer: integer (nullable = false)\n",
            " |-- personal_travel: integer (nullable = false)\n",
            " |-- eco_plus: integer (nullable = false)\n",
            " |-- business: integer (nullable = false)\n",
            " |-- eco: integer (nullable = false)\n",
            " |-- satisfied: integer (nullable = false)"
          ]
        }
      ],
      "source": [
        "column_order = [\"id\", \"age\", \"flight_distance\", \"seat_comfort\", \"departure_arrival_time_convenient\",\n",
        "               \"food_and_drink\", \"gate_location\", \"inflight_wifi_service\", \"inflight_entertainment\",\n",
        "               \"online_support\", \"ease_of_online_booking\", \"on_board_service\", \"leg_room\",\n",
        "               \"baggage_handling\", \"checkin_service\", \"cleanliness\", \"online_boarding\", \"departure_delay_minutes\",\n",
        "               \"arrival_delay_minutes\", \"female\", \"loyal_customer\", \"personal_travel\", \"eco_plus\",\n",
        "               \"business\", \"eco\", \"satisfied\"]\n",
        "\n",
        "ordered_airline = dum_airline_csv.select(column_order)\n",
        "ordered_airline.printSchema()"
      ]
    },
    {
      "cell_type": "markdown",
      "id": "3e6ab9a3",
      "metadata": {
        "id": "3e6ab9a3"
      },
      "source": [
        "The purpose of the code above is to change the order of columns in the DataFrame so that our dependent variable (satisfied) is in the last position."
      ]
    },
    {
      "cell_type": "markdown",
      "id": "43f74ea3",
      "metadata": {
        "id": "43f74ea3"
      },
      "source": [
        "# Chi-Square Selector"
      ]
    },
    {
      "cell_type": "markdown",
      "id": "cd3670a3",
      "metadata": {
        "id": "cd3670a3"
      },
      "source": [
        "Here, we will create a vector assembler with all columns except the dependent variable. Then, we create a selector object. After, we put the vector assembler and the selector through the pipeline and fit and transform our data to the model. After that, we can display the top features in our dataset."
      ]
    },
    {
      "cell_type": "code",
      "execution_count": null,
      "id": "f2ace142",
      "metadata": {
        "id": "f2ace142",
        "outputId": "a0da80fc-86c0-47fb-ffbe-ec100bb4e64a",
        "colab": {
          "referenced_widgets": [
            "d327030917724a699474e01398516192",
            ""
          ]
        }
      },
      "outputs": [
        {
          "data": {
            "application/vnd.jupyter.widget-view+json": {
              "model_id": "d327030917724a699474e01398516192",
              "version_major": 2,
              "version_minor": 0
            },
            "text/plain": [
              "VBox()"
            ]
          },
          "metadata": {},
          "output_type": "display_data"
        },
        {
          "data": {
            "application/vnd.jupyter.widget-view+json": {
              "model_id": "",
              "version_major": 2,
              "version_minor": 0
            },
            "text/plain": [
              "FloatProgress(value=0.0, bar_style='info', description='Progress:', layout=Layout(height='25px', width='50%'),…"
            ]
          },
          "metadata": {},
          "output_type": "display_data"
        },
        {
          "name": "stdout",
          "output_type": "stream",
          "text": [
            "{'ml_attr': {'attrs': {'numeric': [{'idx': 0, 'name': 'age'}, {'idx': 1, 'name': 'flight_distance'}, {'idx': 2, 'name': 'seat_comfort'}, {'idx': 3, 'name': 'departure_arrival_time_convenient'}, {'idx': 4, 'name': 'food_and_drink'}, {'idx': 5, 'name': 'gate_location'}, {'idx': 6, 'name': 'inflight_wifi_service'}, {'idx': 7, 'name': 'inflight_entertainment'}, {'idx': 8, 'name': 'online_support'}, {'idx': 9, 'name': 'ease_of_online_booking'}]}, 'num_attrs': 10}}"
          ]
        }
      ],
      "source": [
        "vectorAssembler = feat.VectorAssembler(\n",
        "    inputCols = ordered_airline.columns[1:-1]\n",
        "    , outputCol = 'features'\n",
        ")\n",
        "\n",
        "selector = feat.ChiSqSelector(\n",
        "    labelCol = 'satisfied'\n",
        "    , numTopFeatures = 10\n",
        "    , outputCol = 'selected')\n",
        "\n",
        "pipeline_sel = Pipeline(stages=[vectorAssembler, selector])\n",
        "\n",
        "model = (\n",
        "    pipeline_sel\n",
        "    .fit(ordered_airline)\n",
        "    .transform(ordered_airline)\n",
        ")\n",
        "\n",
        "model.schema['selected'].metadata"
      ]
    },
    {
      "cell_type": "markdown",
      "id": "f7dce7e8",
      "metadata": {
        "id": "f7dce7e8"
      },
      "source": [
        "# Logistic Regression"
      ]
    },
    {
      "cell_type": "markdown",
      "id": "0cdbf59a",
      "metadata": {
        "id": "0cdbf59a"
      },
      "source": [
        "First, we need to split our data into training and testing sets."
      ]
    },
    {
      "cell_type": "code",
      "execution_count": null,
      "id": "e7a71407",
      "metadata": {
        "id": "e7a71407",
        "outputId": "a9754487-d5dc-465e-8080-a9f6cb95d508",
        "colab": {
          "referenced_widgets": [
            "62ad938366224769978676d3ca0bfe2c",
            ""
          ]
        }
      },
      "outputs": [
        {
          "data": {
            "application/vnd.jupyter.widget-view+json": {
              "model_id": "62ad938366224769978676d3ca0bfe2c",
              "version_major": 2,
              "version_minor": 0
            },
            "text/plain": [
              "VBox()"
            ]
          },
          "metadata": {},
          "output_type": "display_data"
        },
        {
          "data": {
            "application/vnd.jupyter.widget-view+json": {
              "model_id": "",
              "version_major": 2,
              "version_minor": 0
            },
            "text/plain": [
              "FloatProgress(value=0.0, bar_style='info', description='Progress:', layout=Layout(height='25px', width='50%'),…"
            ]
          },
          "metadata": {},
          "output_type": "display_data"
        }
      ],
      "source": [
        "airline_train, airline_test = (\n",
        "    ordered_airline\n",
        "    .randomSplit([0.7, 0.3], seed=666)\n",
        ")"
      ]
    },
    {
      "cell_type": "markdown",
      "id": "42c6c118",
      "metadata": {
        "id": "42c6c118"
      },
      "source": [
        "Next are steps to train the model using a pipeline."
      ]
    },
    {
      "cell_type": "code",
      "execution_count": null,
      "id": "c506e508",
      "metadata": {
        "id": "c506e508",
        "outputId": "92f883e9-2dac-4ac7-c66b-fcc88ac2bd3b",
        "colab": {
          "referenced_widgets": [
            "75f2edafc9bf4da7b8cd3cd23e3b1312",
            ""
          ]
        }
      },
      "outputs": [
        {
          "data": {
            "application/vnd.jupyter.widget-view+json": {
              "model_id": "75f2edafc9bf4da7b8cd3cd23e3b1312",
              "version_major": 2,
              "version_minor": 0
            },
            "text/plain": [
              "VBox()"
            ]
          },
          "metadata": {},
          "output_type": "display_data"
        },
        {
          "data": {
            "application/vnd.jupyter.widget-view+json": {
              "model_id": "",
              "version_major": 2,
              "version_minor": 0
            },
            "text/plain": [
              "FloatProgress(value=0.0, bar_style='info', description='Progress:', layout=Layout(height='25px', width='50%'),…"
            ]
          },
          "metadata": {},
          "output_type": "display_data"
        }
      ],
      "source": [
        "vectorAssembler = feat.VectorAssembler(\n",
        "    inputCols = ordered_airline.columns[1:-1]\n",
        "    , outputCol = 'features')\n",
        "\n",
        "selector = feat.ChiSqSelector(\n",
        "    labelCol = 'satisfied'\n",
        "    , numTopFeatures = 5\n",
        "    , outputCol = 'selected')\n",
        "\n",
        "logReg_obj = cl.LogisticRegression(\n",
        "    labelCol = 'satisfied'\n",
        "    , featuresCol = selector.getOutputCol()\n",
        "    , regParam = 0.01\n",
        "    , elasticNetParam = 1.0\n",
        "    , family = 'multinomial'\n",
        ")\n",
        "\n",
        "pipeline = Pipeline(\n",
        "    stages=[\n",
        "        vectorAssembler\n",
        "        , selector\n",
        "        , logReg_obj\n",
        "    ])\n",
        "\n",
        "pModel = pipeline.fit(airline_train)"
      ]
    },
    {
      "cell_type": "markdown",
      "id": "bce35f29",
      "metadata": {
        "id": "bce35f29"
      },
      "source": [
        "Now, we will apply the model to the test set and evaluate the performance of the multinominal model in terms of F1 score, weighted percision, and accuracy. "
      ]
    },
    {
      "cell_type": "code",
      "execution_count": null,
      "id": "0984c97a",
      "metadata": {
        "id": "0984c97a",
        "outputId": "5eb50a57-ae09-46d6-e611-50c1d2fc4fcd",
        "colab": {
          "referenced_widgets": [
            "c91ca2c971c7428bbee4fbf9763b8785",
            ""
          ]
        }
      },
      "outputs": [
        {
          "data": {
            "application/vnd.jupyter.widget-view+json": {
              "model_id": "c91ca2c971c7428bbee4fbf9763b8785",
              "version_major": 2,
              "version_minor": 0
            },
            "text/plain": [
              "VBox()"
            ]
          },
          "metadata": {},
          "output_type": "display_data"
        },
        {
          "data": {
            "application/vnd.jupyter.widget-view+json": {
              "model_id": "",
              "version_major": 2,
              "version_minor": 0
            },
            "text/plain": [
              "FloatProgress(value=0.0, bar_style='info', description='Progress:', layout=Layout(height='25px', width='50%'),…"
            ]
          },
          "metadata": {},
          "output_type": "display_data"
        },
        {
          "name": "stdout",
          "output_type": "stream",
          "text": [
            "(0.6321509051918819, 0.637113458340117, 0.6391000537510558)"
          ]
        }
      ],
      "source": [
        "logReg_model = (\n",
        "    pModel\n",
        "    .transform(airline_test)\n",
        ")\n",
        "\n",
        "results_logReg = logReg_model.select('satisfied', 'probability', 'prediction')\n",
        "\n",
        "evaluator = ev.MulticlassClassificationEvaluator(\n",
        "    predictionCol='prediction'\n",
        "    , labelCol='satisfied')\n",
        "\n",
        "(\n",
        "    evaluator.evaluate(results_logReg)\n",
        "    , evaluator.evaluate(\n",
        "        results_logReg\n",
        "        , {evaluator.metricName: 'weightedPrecision'}\n",
        "    ) \n",
        "    , evaluator.evaluate(\n",
        "        results_logReg\n",
        "        , {evaluator.metricName: 'accuracy'}\n",
        "    )\n",
        ")"
      ]
    },
    {
      "cell_type": "markdown",
      "id": "dd56cad2",
      "metadata": {
        "id": "dd56cad2"
      },
      "source": [
        "So, for the multinominal logistic regression model, we have an F1 score of 63%, a weighted precision score of 64%, and an accuracy score of 64%. We can also print the selected features from the chisquare selector and the model coefficients."
      ]
    },
    {
      "cell_type": "code",
      "execution_count": null,
      "id": "780a775e",
      "metadata": {
        "id": "780a775e",
        "outputId": "5b228f26-3035-40dc-e0f7-afe482195317",
        "colab": {
          "referenced_widgets": [
            "0011b332560141d7837d5caae3e7c1ae",
            ""
          ]
        }
      },
      "outputs": [
        {
          "data": {
            "application/vnd.jupyter.widget-view+json": {
              "model_id": "0011b332560141d7837d5caae3e7c1ae",
              "version_major": 2,
              "version_minor": 0
            },
            "text/plain": [
              "VBox()"
            ]
          },
          "metadata": {},
          "output_type": "display_data"
        },
        {
          "data": {
            "application/vnd.jupyter.widget-view+json": {
              "model_id": "",
              "version_major": 2,
              "version_minor": 0
            },
            "text/plain": [
              "FloatProgress(value=0.0, bar_style='info', description='Progress:', layout=Layout(height='25px', width='50%'),…"
            ]
          },
          "metadata": {},
          "output_type": "display_data"
        },
        {
          "name": "stdout",
          "output_type": "stream",
          "text": [
            "{'ml_attr': {'attrs': {'numeric': [{'idx': 0, 'name': 'age'}, {'idx': 1, 'name': 'flight_distance'}, {'idx': 2, 'name': 'seat_comfort'}, {'idx': 3, 'name': 'departure_arrival_time_convenient'}, {'idx': 4, 'name': 'food_and_drink'}]}, 'num_attrs': 5}}\n",
            "[[-0.00709593  0.         -0.21223736  0.08857022  0.        ]\n",
            " [ 0.00709593  0.          0.21223736 -0.08857022  0.        ]]"
          ]
        }
      ],
      "source": [
        "print(logReg_model.schema['selected'].metadata)\n",
        "\n",
        "print(pModel.stages[-1].coefficientMatrix.toArray())"
      ]
    },
    {
      "cell_type": "markdown",
      "id": "72128f6d",
      "metadata": {
        "id": "72128f6d"
      },
      "source": [
        "# Random Forest Classifier"
      ]
    },
    {
      "cell_type": "markdown",
      "id": "012864a0",
      "metadata": {
        "id": "012864a0"
      },
      "source": [
        "Next, we will run a random forest classifier model using a pipeline in the same manner we did for logistic regression. We will also apply the model to the test set and evaluate the performance of the random forest classifier in the same cell. We will measure the F1 score, the weighted precision, and the accuracy again."
      ]
    },
    {
      "cell_type": "code",
      "execution_count": null,
      "id": "a08c4eec",
      "metadata": {
        "id": "a08c4eec",
        "outputId": "e2b0b8bd-1720-4a39-def5-b8b090cb9464",
        "colab": {
          "referenced_widgets": [
            "dede81a7fea74db1813410e6af28d40d",
            ""
          ]
        }
      },
      "outputs": [
        {
          "data": {
            "application/vnd.jupyter.widget-view+json": {
              "model_id": "dede81a7fea74db1813410e6af28d40d",
              "version_major": 2,
              "version_minor": 0
            },
            "text/plain": [
              "VBox()"
            ]
          },
          "metadata": {},
          "output_type": "display_data"
        },
        {
          "data": {
            "application/vnd.jupyter.widget-view+json": {
              "model_id": "",
              "version_major": 2,
              "version_minor": 0
            },
            "text/plain": [
              "FloatProgress(value=0.0, bar_style='info', description='Progress:', layout=Layout(height='25px', width='50%'),…"
            ]
          },
          "metadata": {},
          "output_type": "display_data"
        },
        {
          "name": "stdout",
          "output_type": "stream",
          "text": [
            "(0.7542463926122396, 0.7563772306371901, 0.7561749724845785)"
          ]
        }
      ],
      "source": [
        "rf_obj = cl.RandomForestClassifier(\n",
        "    labelCol = 'satisfied'\n",
        "    , featuresCol = selector.getOutputCol()\n",
        "    , minInstancesPerNode = 10\n",
        "    , numTrees = 10\n",
        ")\n",
        "\n",
        "pipeline = Pipeline(\n",
        "    stages = [vectorAssembler, selector, rf_obj]\n",
        ")\n",
        "\n",
        "pModel = pipeline.fit(airline_train)\n",
        "\n",
        "rf_obj_trained = (\n",
        "    pModel\n",
        "    .transform(airline_test)\n",
        ")\n",
        "results_rf = rf_obj_trained.select('satisfied', 'probability', 'prediction')\n",
        "\n",
        "evaluator = ev.MulticlassClassificationEvaluator(\n",
        "    predictionCol = 'prediction'\n",
        "    , labelCol = 'satisfied')\n",
        "\n",
        "(\n",
        "    evaluator.evaluate(results_rf)\n",
        "    , evaluator.evaluate(\n",
        "        results_rf\n",
        "        , {evaluator.metricName: 'weightedPrecision'}\n",
        "    )\n",
        "    , evaluator.evaluate(\n",
        "        results_rf\n",
        "        , {evaluator.metricName: 'accuracy'}\n",
        "    )\n",
        ")"
      ]
    },
    {
      "cell_type": "markdown",
      "id": "3bc854c1",
      "metadata": {
        "id": "3bc854c1"
      },
      "source": [
        "Here, we can see the random forest classifier has slightly better accuracy than the logistic regression model. The random forest classifier has an F1 score of 75.5%, a weighted precision score of 75.7%, and an accuracy score of 75.7%. We can also print the selected features from the chisquare selector."
      ]
    },
    {
      "cell_type": "code",
      "execution_count": null,
      "id": "fef1b3b5",
      "metadata": {
        "id": "fef1b3b5",
        "outputId": "e3cee74a-2314-4a75-bc3d-125653f20228",
        "colab": {
          "referenced_widgets": [
            "0747a0cd18ce4831a5a45b2ee18f30ee",
            ""
          ]
        }
      },
      "outputs": [
        {
          "data": {
            "application/vnd.jupyter.widget-view+json": {
              "model_id": "0747a0cd18ce4831a5a45b2ee18f30ee",
              "version_major": 2,
              "version_minor": 0
            },
            "text/plain": [
              "VBox()"
            ]
          },
          "metadata": {},
          "output_type": "display_data"
        },
        {
          "data": {
            "application/vnd.jupyter.widget-view+json": {
              "model_id": "",
              "version_major": 2,
              "version_minor": 0
            },
            "text/plain": [
              "FloatProgress(value=0.0, bar_style='info', description='Progress:', layout=Layout(height='25px', width='50%'),…"
            ]
          },
          "metadata": {},
          "output_type": "display_data"
        },
        {
          "name": "stdout",
          "output_type": "stream",
          "text": [
            "{'ml_attr': {'attrs': {'numeric': [{'idx': 0, 'name': 'age'}, {'idx': 1, 'name': 'flight_distance'}, {'idx': 2, 'name': 'seat_comfort'}, {'idx': 3, 'name': 'departure_arrival_time_convenient'}, {'idx': 4, 'name': 'food_and_drink'}]}, 'num_attrs': 5}}"
          ]
        }
      ],
      "source": [
        "print(rf_obj_trained.schema['selected'].metadata)"
      ]
    },
    {
      "cell_type": "markdown",
      "id": "54f6e4a7",
      "metadata": {
        "id": "54f6e4a7"
      },
      "source": [
        "From the looks of things, it seems the same features were selected for both models. "
      ]
    },
    {
      "cell_type": "markdown",
      "id": "8be8adec",
      "metadata": {
        "id": "8be8adec"
      },
      "source": [
        "# Hypertune Parameters with GridSearch"
      ]
    },
    {
      "cell_type": "markdown",
      "id": "6efaf635",
      "metadata": {
        "id": "6efaf635"
      },
      "source": [
        "First, we will run GridSearch on the logistic regression model a few times to find the best parameters. GridSearch will make multiple models and find which parameters score the highest for the model. We will also use cross validator so that all records are able to be tested with each model. After, we will train the model with the best parameters."
      ]
    },
    {
      "cell_type": "code",
      "execution_count": null,
      "id": "ca272679",
      "metadata": {
        "id": "ca272679",
        "outputId": "02370107-c78e-4940-c215-99d7640fcad0",
        "colab": {
          "referenced_widgets": [
            "be3ca4e7a19d45bfab4b2ff192ac4086",
            "f0f16a745c6740e8b21cb2dc45b5ffb0"
          ]
        }
      },
      "outputs": [
        {
          "data": {
            "application/vnd.jupyter.widget-view+json": {
              "model_id": "be3ca4e7a19d45bfab4b2ff192ac4086",
              "version_major": 2,
              "version_minor": 0
            },
            "text/plain": [
              "VBox()"
            ]
          },
          "metadata": {},
          "output_type": "display_data"
        },
        {
          "data": {
            "application/vnd.jupyter.widget-view+json": {
              "model_id": "f0f16a745c6740e8b21cb2dc45b5ffb0",
              "version_major": 2,
              "version_minor": 0
            },
            "text/plain": [
              "FloatProgress(value=0.0, bar_style='info', description='Progress:', layout=Layout(height='25px', width='50%'),…"
            ]
          },
          "metadata": {},
          "output_type": "display_data"
        },
        {
          "name": "stderr",
          "output_type": "stream",
          "text": [
            "An error was encountered:\n",
            "Invalid status code '400' from http://localhost:8998/sessions/1/statements/28 with error payload: {\"msg\":\"requirement failed: Session isn't active.\"}\n"
          ]
        }
      ],
      "source": [
        "vectorAssembler = feat.VectorAssembler(\n",
        "    inputCols = ordered_airline.columns[1:-1]\n",
        "    , outputCol = 'features')\n",
        "\n",
        "selector = feat.ChiSqSelector(\n",
        "    labelCol = 'satisfied'\n",
        "    , numTopFeatures = 5\n",
        "    , outputCol = 'selected')\n",
        "\n",
        "logReg_obj = cl.LogisticRegression(\n",
        "    labelCol = 'satisfied'\n",
        "    , featuresCol = selector.getOutputCol()\n",
        "    , family = 'multinomial'\n",
        ")\n",
        "\n",
        "logReg_grid = (\n",
        "    tune.ParamGridBuilder()\n",
        "    .addGrid(logReg_obj.regParam\n",
        "            , [0, 0.25, 0.5, .75, 1]\n",
        "        )\n",
        "    .addGrid(logReg_obj.elasticNetParam\n",
        "            , [0, 0.25, 0.5, .75, 1]\n",
        "        )\n",
        "    .build()\n",
        ")\n",
        "\n",
        "logReg_ev = ev.MulticlassClassificationEvaluator(\n",
        "    predictionCol = 'prediction'\n",
        "    , labelCol = 'satisfied')\n",
        "\n",
        "cross_v = tune.CrossValidator(\n",
        "    estimator = logReg_obj\n",
        "    , estimatorParamMaps = logReg_grid\n",
        "    , evaluator = logReg_ev\n",
        ")\n",
        "\n",
        "pipeline = Pipeline(stages = [vectorAssembler, selector])\n",
        "data_trans = pipeline.fit(airline_train)\n",
        "\n",
        "logReg_modelTest = cross_v.fit(\n",
        "    data_trans.transform(airline_train)\n",
        ")"
      ]
    },
    {
      "cell_type": "markdown",
      "id": "eafd69e8",
      "metadata": {
        "id": "eafd69e8"
      },
      "source": [
        "Now that we have the best parameters for the model, we will apply the model to the test dataset and print the weighted precision, weighted recall, and accuracy of the model with the best parameters. We will also print what the best parameters are in this cell."
      ]
    },
    {
      "cell_type": "code",
      "execution_count": null,
      "id": "1586fb22",
      "metadata": {
        "id": "1586fb22",
        "outputId": "e80020b5-e8fd-46b2-aef3-4742e3cbf19f",
        "colab": {
          "referenced_widgets": [
            "adf9ffe3a5754229b6de03ee96e6d214"
          ]
        }
      },
      "outputs": [
        {
          "data": {
            "application/vnd.jupyter.widget-view+json": {
              "model_id": "adf9ffe3a5754229b6de03ee96e6d214",
              "version_major": 2,
              "version_minor": 0
            },
            "text/plain": [
              "VBox()"
            ]
          },
          "metadata": {},
          "output_type": "display_data"
        },
        {
          "name": "stderr",
          "output_type": "stream",
          "text": [
            "An error was encountered:\n",
            "Session 1 unexpectedly reached final status 'dead'. See logs:\n",
            "stdout: \n",
            "#\n",
            "# There is insufficient memory for the Java Runtime Environment to continue.\n",
            "# Native memory allocation (mmap) failed to map 425680896 bytes for committing reserved memory.\n",
            "# An error report file with more information is saved as:\n",
            "# /tmp/hs_err_pid22193.log\n",
            "\n",
            "stderr: \n",
            "21/11/29 07:17:44 INFO TaskSetManager: Finished task 3.0 in stage 334.0 (TID 1301) in 96 ms on ip-172-31-78-127.ec2.internal (executor 1) (2/4)\n",
            "21/11/29 07:17:44 INFO TaskSetManager: Finished task 0.0 in stage 334.0 (TID 1298) in 107 ms on ip-172-31-78-127.ec2.internal (executor 1) (3/4)\n",
            "21/11/29 07:17:44 INFO TaskSetManager: Finished task 1.0 in stage 334.0 (TID 1299) in 117 ms on ip-172-31-66-80.ec2.internal (executor 3) (4/4)\n",
            "21/11/29 07:17:44 INFO DAGScheduler: ResultStage 334 (countByValue at ChiSqTest.scala:124) finished in 0.124 s\n",
            "21/11/29 07:17:44 INFO DAGScheduler: Job 297 finished: countByValue at ChiSqTest.scala:124, took 1.622128 s\n",
            "21/11/29 07:17:44 INFO YarnScheduler: Removed TaskSet 334.0, whose tasks have all completed, from pool \n",
            "21/11/29 07:17:44 INFO ContextCleaner: Cleaned accumulator 8908\n",
            "21/11/29 07:17:44 INFO ContextCleaner: Cleaned accumulator 8896\n",
            "21/11/29 07:17:44 INFO ContextCleaner: Cleaned accumulator 8875\n",
            "21/11/29 07:17:44 INFO ContextCleaner: Cleaned accumulator 8921\n",
            "21/11/29 07:17:44 INFO ContextCleaner: Cleaned accumulator 8922\n",
            "21/11/29 07:17:44 INFO ContextCleaner: Cleaned accumulator 8913\n",
            "21/11/29 07:17:44 INFO ContextCleaner: Cleaned accumulator 8918\n",
            "21/11/29 07:17:44 INFO ContextCleaner: Cleaned accumulator 8893\n",
            "21/11/29 07:17:44 INFO ContextCleaner: Cleaned accumulator 8877\n",
            "21/11/29 07:17:44 INFO ContextCleaner: Cleaned accumulator 8889\n",
            "21/11/29 07:17:44 INFO ContextCleaner: Cleaned accumulator 8900\n",
            "21/11/29 07:17:44 INFO ContextCleaner: Cleaned accumulator 8914\n",
            "21/11/29 07:17:44 INFO ContextCleaner: Cleaned shuffle 35\n",
            "21/11/29 07:17:44 INFO ContextCleaner: Cleaned accumulator 8876\n",
            "21/11/29 07:17:44 INFO ContextCleaner: Cleaned accumulator 8885\n",
            "21/11/29 07:17:44 INFO ContextCleaner: Cleaned accumulator 8919\n",
            "21/11/29 07:17:44 INFO ContextCleaner: Cleaned accumulator 8915\n",
            "21/11/29 07:17:44 INFO ContextCleaner: Cleaned accumulator 8882\n",
            "21/11/29 07:17:44 INFO ContextCleaner: Cleaned accumulator 8897\n",
            "21/11/29 07:17:44 INFO ContextCleaner: Cleaned accumulator 8899\n",
            "21/11/29 07:17:44 INFO ContextCleaner: Cleaned accumulator 8888\n",
            "21/11/29 07:17:44 INFO ContextCleaner: Cleaned accumulator 8883\n",
            "21/11/29 07:17:44 INFO ContextCleaner: Cleaned accumulator 8907\n",
            "21/11/29 07:17:44 INFO ContextCleaner: Cleaned accumulator 8901\n",
            "21/11/29 07:17:44 INFO ContextCleaner: Cleaned accumulator 8902\n",
            "21/11/29 07:17:44 INFO ContextCleaner: Cleaned accumulator 8923\n",
            "21/11/29 07:17:44 INFO ContextCleaner: Cleaned accumulator 8898\n",
            "21/11/29 07:17:44 INFO ContextCleaner: Cleaned accumulator 8911\n",
            "21/11/29 07:17:44 INFO ContextCleaner: Cleaned accumulator 8920\n",
            "21/11/29 07:17:44 INFO ContextCleaner: Cleaned accumulator 8887\n",
            "21/11/29 07:17:44 INFO ContextCleaner: Cleaned accumulator 8880\n",
            "21/11/29 07:17:44 INFO ContextCleaner: Cleaned accumulator 8892\n",
            "21/11/29 07:17:44 INFO ContextCleaner: Cleaned accumulator 8894\n",
            "21/11/29 07:17:44 INFO ContextCleaner: Cleaned accumulator 8895\n",
            "21/11/29 07:17:44 INFO ContextCleaner: Cleaned accumulator 8884\n",
            "21/11/29 07:17:44 INFO ContextCleaner: Cleaned accumulator 8905\n",
            "21/11/29 07:17:44 INFO ContextCleaner: Cleaned accumulator 8910\n",
            "21/11/29 07:17:44 INFO ContextCleaner: Cleaned accumulator 8904\n",
            "21/11/29 07:17:44 INFO ContextCleaner: Cleaned accumulator 8916\n",
            "21/11/29 07:17:44 INFO ContextCleaner: Cleaned accumulator 8891\n",
            "21/11/29 07:17:44 INFO ContextCleaner: Cleaned accumulator 8912\n",
            "21/11/29 07:17:44 INFO ContextCleaner: Cleaned accumulator 8890\n",
            "21/11/29 07:17:44 INFO ContextCleaner: Cleaned accumulator 8878\n",
            "21/11/29 07:17:44 INFO ContextCleaner: Cleaned accumulator 8881\n",
            "21/11/29 07:17:44 INFO ContextCleaner: Cleaned accumulator 8924\n",
            "21/11/29 07:17:44 INFO ContextCleaner: Cleaned accumulator 8917\n",
            "21/11/29 07:17:44 INFO ContextCleaner: Cleaned accumulator 8906\n",
            "21/11/29 07:17:44 INFO ContextCleaner: Cleaned accumulator 8879\n",
            "21/11/29 07:17:44 INFO BlockManagerInfo: Removed broadcast_586_piece0 on ip-172-31-67-194.ec2.internal:34157 in memory (size: 26.8 KB, free: 3.3 GB)\n",
            "21/11/29 07:17:44 INFO BlockManagerInfo: Removed broadcast_586_piece0 on ip-172-31-66-80.ec2.internal:38341 in memory (size: 26.8 KB, free: 2.3 GB)\n",
            "21/11/29 07:17:44 INFO BlockManagerInfo: Removed broadcast_586_piece0 on ip-172-31-64-228.ec2.internal:42119 in memory (size: 26.8 KB, free: 2.3 GB)\n",
            "21/11/29 07:17:44 INFO BlockManagerInfo: Removed broadcast_586_piece0 on ip-172-31-71-232.ec2.internal:33725 in memory (size: 26.8 KB, free: 2.3 GB)\n",
            "21/11/29 07:17:44 INFO BlockManagerInfo: Removed broadcast_586_piece0 on ip-172-31-78-127.ec2.internal:42269 in memory (size: 26.8 KB, free: 2.3 GB)\n",
            "21/11/29 07:17:44 INFO ContextCleaner: Cleaned accumulator 8886\n",
            "21/11/29 07:17:44 INFO ContextCleaner: Cleaned accumulator 8903\n",
            "21/11/29 07:17:44 INFO BlockManagerInfo: Removed broadcast_587_piece0 on ip-172-31-67-194.ec2.internal:34157 in memory (size: 1962.0 B, free: 3.3 GB)\n",
            "21/11/29 07:17:44 INFO BlockManagerInfo: Removed broadcast_587_piece0 on ip-172-31-66-80.ec2.internal:38341 in memory (size: 1962.0 B, free: 2.3 GB)\n",
            "21/11/29 07:17:44 INFO BlockManagerInfo: Removed broadcast_587_piece0 on ip-172-31-71-232.ec2.internal:33725 in memory (size: 1962.0 B, free: 2.3 GB)\n",
            "21/11/29 07:17:44 INFO BlockManagerInfo: Removed broadcast_587_piece0 on ip-172-31-78-127.ec2.internal:42269 in memory (size: 1962.0 B, free: 2.3 GB)\n",
            "21/11/29 07:17:44 INFO ContextCleaner: Cleaned accumulator 8909\n",
            "21/11/29 07:17:49 INFO ContextCleaner: Cleaned accumulator 3138\n",
            "21/11/29 07:17:49 INFO ContextCleaner: Cleaned accumulator 8033\n",
            "21/11/29 07:17:49 INFO BlockManagerInfo: Removed broadcast_173_piece0 on ip-172-31-67-194.ec2.internal:34157 in memory (size: 28.2 KB, free: 3.3 GB)\n",
            "21/11/29 07:17:49 INFO BlockManagerInfo: Removed broadcast_173_piece0 on ip-172-31-66-80.ec2.internal:38341 in memory (size: 28.2 KB, free: 2.3 GB)\n",
            "21/11/29 07:17:49 INFO BlockManagerInfo: Removed broadcast_173_piece0 on ip-172-31-71-232.ec2.internal:33725 in memory (size: 28.2 KB, free: 2.3 GB)\n",
            "21/11/29 07:17:49 INFO BlockManagerInfo: Removed broadcast_173_piece0 on ip-172-31-64-228.ec2.internal:42119 in memory (size: 28.2 KB, free: 2.3 GB)\n",
            "21/11/29 07:17:49 INFO BlockManagerInfo: Removed broadcast_173_piece0 on ip-172-31-78-127.ec2.internal:42269 in memory (size: 28.2 KB, free: 2.3 GB)\n",
            "21/11/29 07:17:49 INFO ContextCleaner: Cleaned accumulator 7932\n",
            "21/11/29 07:17:49 INFO ContextCleaner: Cleaned accumulator 7931\n",
            "21/11/29 07:17:49 INFO ContextCleaner: Cleaned accumulator 3136\n",
            "21/11/29 07:17:49 INFO ContextCleaner: Cleaned accumulator 3132\n",
            "21/11/29 07:17:49 INFO ContextCleaner: Cleaned accumulator 7940\n",
            "21/11/29 07:17:49 INFO BlockManagerInfo: Removed broadcast_174_piece0 on ip-172-31-67-194.ec2.internal:34157 in memory (size: 28.2 KB, free: 3.3 GB)\n",
            "21/11/29 07:17:49 INFO ContextCleaner: Cleaned accumulator 7939\n",
            "21/11/29 07:17:49 INFO ContextCleaner: Cleaned accumulator 7933\n",
            "21/11/29 07:17:49 INFO ContextCleaner: Cleaned accumulator 3144\n",
            "21/11/29 07:17:49 INFO ContextCleaner: Cleaned accumulator 3129\n",
            "21/11/29 07:17:49 INFO ContextCleaner: Cleaned accumulator 3137\n",
            "21/11/29 07:17:49 INFO ContextCleaner: Cleaned accumulator 8030\n",
            "21/11/29 07:17:49 INFO ContextCleaner: Cleaned accumulator 3131\n",
            "21/11/29 07:17:49 INFO BlockManagerInfo: Removed broadcast_544_piece0 on ip-172-31-67-194.ec2.internal:34157 in memory (size: 28.2 KB, free: 3.3 GB)\n",
            "21/11/29 07:17:49 INFO BlockManagerInfo: Removed broadcast_544_piece0 on ip-172-31-66-80.ec2.internal:38341 in memory (size: 28.2 KB, free: 2.3 GB)\n",
            "21/11/29 07:17:49 INFO BlockManagerInfo: Removed broadcast_544_piece0 on ip-172-31-71-232.ec2.internal:33725 in memory (size: 28.2 KB, free: 2.3 GB)\n",
            "21/11/29 07:17:49 INFO BlockManagerInfo: Removed broadcast_544_piece0 on ip-172-31-64-228.ec2.internal:42119 in memory (size: 28.2 KB, free: 2.3 GB)\n",
            "21/11/29 07:17:49 INFO BlockManagerInfo: Removed broadcast_544_piece0 on ip-172-31-78-127.ec2.internal:42269 in memory (size: 28.2 KB, free: 2.3 GB)\n",
            "21/11/29 07:17:49 INFO ContextCleaner: Cleaned accumulator 8028\n",
            "21/11/29 07:17:49 INFO ContextCleaner: Cleaned accumulator 3127\n"
          ]
        }
      ],
      "source": [
        "data_trans_test = data_trans.transform(airline_test)\n",
        "results = logReg_modelTest.transform(data_trans_test)\n",
        "\n",
        "print(logReg_ev.evaluate(results, {logReg_ev.metricName: 'weightedPrecision'}))\n",
        "print(logReg_ev.evaluate(results, {logReg_ev.metricName: 'weightedRecall'}))\n",
        "print(logReg_ev.evaluate(results, {logReg_ev.metricName: 'accuracy'}))\n",
        "print('Best params, regParam: %s, elasticNetParam: %s' \n",
        "      %(logReg_modelTest.bestModel._java_obj.getRegParam(),\n",
        "      logReg_modelTest.bestModel._java_obj.getElasticNetParam()))"
      ]
    },
    {
      "cell_type": "markdown",
      "id": "cf1cea7f",
      "metadata": {
        "id": "cf1cea7f"
      },
      "source": [
        "Next, we will use GridSearch to search for the best parameters for the the random forest classifier. The same steps that were used for logistic regression will be applied for the random forest classifier."
      ]
    },
    {
      "cell_type": "code",
      "execution_count": null,
      "id": "8a27d3a7",
      "metadata": {
        "id": "8a27d3a7",
        "outputId": "f7c41960-a72d-45e1-e6a6-7cdb582863f9",
        "colab": {
          "referenced_widgets": [
            "92551cee278c4165adbcb683a9317344"
          ]
        }
      },
      "outputs": [
        {
          "data": {
            "application/vnd.jupyter.widget-view+json": {
              "model_id": "92551cee278c4165adbcb683a9317344",
              "version_major": 2,
              "version_minor": 0
            },
            "text/plain": [
              "VBox()"
            ]
          },
          "metadata": {},
          "output_type": "display_data"
        },
        {
          "name": "stderr",
          "output_type": "stream",
          "text": [
            "An error was encountered:\n",
            "Session 1 unexpectedly reached final status 'dead'. See logs:\n",
            "stdout: \n",
            "#\n",
            "# There is insufficient memory for the Java Runtime Environment to continue.\n",
            "# Native memory allocation (mmap) failed to map 425680896 bytes for committing reserved memory.\n",
            "# An error report file with more information is saved as:\n",
            "# /tmp/hs_err_pid22193.log\n",
            "\n",
            "stderr: \n",
            "21/11/29 07:17:44 INFO TaskSetManager: Finished task 3.0 in stage 334.0 (TID 1301) in 96 ms on ip-172-31-78-127.ec2.internal (executor 1) (2/4)\n",
            "21/11/29 07:17:44 INFO TaskSetManager: Finished task 0.0 in stage 334.0 (TID 1298) in 107 ms on ip-172-31-78-127.ec2.internal (executor 1) (3/4)\n",
            "21/11/29 07:17:44 INFO TaskSetManager: Finished task 1.0 in stage 334.0 (TID 1299) in 117 ms on ip-172-31-66-80.ec2.internal (executor 3) (4/4)\n",
            "21/11/29 07:17:44 INFO DAGScheduler: ResultStage 334 (countByValue at ChiSqTest.scala:124) finished in 0.124 s\n",
            "21/11/29 07:17:44 INFO DAGScheduler: Job 297 finished: countByValue at ChiSqTest.scala:124, took 1.622128 s\n",
            "21/11/29 07:17:44 INFO YarnScheduler: Removed TaskSet 334.0, whose tasks have all completed, from pool \n",
            "21/11/29 07:17:44 INFO ContextCleaner: Cleaned accumulator 8908\n",
            "21/11/29 07:17:44 INFO ContextCleaner: Cleaned accumulator 8896\n",
            "21/11/29 07:17:44 INFO ContextCleaner: Cleaned accumulator 8875\n",
            "21/11/29 07:17:44 INFO ContextCleaner: Cleaned accumulator 8921\n",
            "21/11/29 07:17:44 INFO ContextCleaner: Cleaned accumulator 8922\n",
            "21/11/29 07:17:44 INFO ContextCleaner: Cleaned accumulator 8913\n",
            "21/11/29 07:17:44 INFO ContextCleaner: Cleaned accumulator 8918\n",
            "21/11/29 07:17:44 INFO ContextCleaner: Cleaned accumulator 8893\n",
            "21/11/29 07:17:44 INFO ContextCleaner: Cleaned accumulator 8877\n",
            "21/11/29 07:17:44 INFO ContextCleaner: Cleaned accumulator 8889\n",
            "21/11/29 07:17:44 INFO ContextCleaner: Cleaned accumulator 8900\n",
            "21/11/29 07:17:44 INFO ContextCleaner: Cleaned accumulator 8914\n",
            "21/11/29 07:17:44 INFO ContextCleaner: Cleaned shuffle 35\n",
            "21/11/29 07:17:44 INFO ContextCleaner: Cleaned accumulator 8876\n",
            "21/11/29 07:17:44 INFO ContextCleaner: Cleaned accumulator 8885\n",
            "21/11/29 07:17:44 INFO ContextCleaner: Cleaned accumulator 8919\n",
            "21/11/29 07:17:44 INFO ContextCleaner: Cleaned accumulator 8915\n",
            "21/11/29 07:17:44 INFO ContextCleaner: Cleaned accumulator 8882\n",
            "21/11/29 07:17:44 INFO ContextCleaner: Cleaned accumulator 8897\n",
            "21/11/29 07:17:44 INFO ContextCleaner: Cleaned accumulator 8899\n",
            "21/11/29 07:17:44 INFO ContextCleaner: Cleaned accumulator 8888\n",
            "21/11/29 07:17:44 INFO ContextCleaner: Cleaned accumulator 8883\n",
            "21/11/29 07:17:44 INFO ContextCleaner: Cleaned accumulator 8907\n",
            "21/11/29 07:17:44 INFO ContextCleaner: Cleaned accumulator 8901\n",
            "21/11/29 07:17:44 INFO ContextCleaner: Cleaned accumulator 8902\n",
            "21/11/29 07:17:44 INFO ContextCleaner: Cleaned accumulator 8923\n",
            "21/11/29 07:17:44 INFO ContextCleaner: Cleaned accumulator 8898\n",
            "21/11/29 07:17:44 INFO ContextCleaner: Cleaned accumulator 8911\n",
            "21/11/29 07:17:44 INFO ContextCleaner: Cleaned accumulator 8920\n",
            "21/11/29 07:17:44 INFO ContextCleaner: Cleaned accumulator 8887\n",
            "21/11/29 07:17:44 INFO ContextCleaner: Cleaned accumulator 8880\n",
            "21/11/29 07:17:44 INFO ContextCleaner: Cleaned accumulator 8892\n",
            "21/11/29 07:17:44 INFO ContextCleaner: Cleaned accumulator 8894\n",
            "21/11/29 07:17:44 INFO ContextCleaner: Cleaned accumulator 8895\n",
            "21/11/29 07:17:44 INFO ContextCleaner: Cleaned accumulator 8884\n",
            "21/11/29 07:17:44 INFO ContextCleaner: Cleaned accumulator 8905\n",
            "21/11/29 07:17:44 INFO ContextCleaner: Cleaned accumulator 8910\n",
            "21/11/29 07:17:44 INFO ContextCleaner: Cleaned accumulator 8904\n",
            "21/11/29 07:17:44 INFO ContextCleaner: Cleaned accumulator 8916\n",
            "21/11/29 07:17:44 INFO ContextCleaner: Cleaned accumulator 8891\n",
            "21/11/29 07:17:44 INFO ContextCleaner: Cleaned accumulator 8912\n",
            "21/11/29 07:17:44 INFO ContextCleaner: Cleaned accumulator 8890\n",
            "21/11/29 07:17:44 INFO ContextCleaner: Cleaned accumulator 8878\n",
            "21/11/29 07:17:44 INFO ContextCleaner: Cleaned accumulator 8881\n",
            "21/11/29 07:17:44 INFO ContextCleaner: Cleaned accumulator 8924\n",
            "21/11/29 07:17:44 INFO ContextCleaner: Cleaned accumulator 8917\n",
            "21/11/29 07:17:44 INFO ContextCleaner: Cleaned accumulator 8906\n",
            "21/11/29 07:17:44 INFO ContextCleaner: Cleaned accumulator 8879\n",
            "21/11/29 07:17:44 INFO BlockManagerInfo: Removed broadcast_586_piece0 on ip-172-31-67-194.ec2.internal:34157 in memory (size: 26.8 KB, free: 3.3 GB)\n",
            "21/11/29 07:17:44 INFO BlockManagerInfo: Removed broadcast_586_piece0 on ip-172-31-66-80.ec2.internal:38341 in memory (size: 26.8 KB, free: 2.3 GB)\n",
            "21/11/29 07:17:44 INFO BlockManagerInfo: Removed broadcast_586_piece0 on ip-172-31-64-228.ec2.internal:42119 in memory (size: 26.8 KB, free: 2.3 GB)\n",
            "21/11/29 07:17:44 INFO BlockManagerInfo: Removed broadcast_586_piece0 on ip-172-31-71-232.ec2.internal:33725 in memory (size: 26.8 KB, free: 2.3 GB)\n",
            "21/11/29 07:17:44 INFO BlockManagerInfo: Removed broadcast_586_piece0 on ip-172-31-78-127.ec2.internal:42269 in memory (size: 26.8 KB, free: 2.3 GB)\n",
            "21/11/29 07:17:44 INFO ContextCleaner: Cleaned accumulator 8886\n",
            "21/11/29 07:17:44 INFO ContextCleaner: Cleaned accumulator 8903\n",
            "21/11/29 07:17:44 INFO BlockManagerInfo: Removed broadcast_587_piece0 on ip-172-31-67-194.ec2.internal:34157 in memory (size: 1962.0 B, free: 3.3 GB)\n",
            "21/11/29 07:17:44 INFO BlockManagerInfo: Removed broadcast_587_piece0 on ip-172-31-66-80.ec2.internal:38341 in memory (size: 1962.0 B, free: 2.3 GB)\n",
            "21/11/29 07:17:44 INFO BlockManagerInfo: Removed broadcast_587_piece0 on ip-172-31-71-232.ec2.internal:33725 in memory (size: 1962.0 B, free: 2.3 GB)\n",
            "21/11/29 07:17:44 INFO BlockManagerInfo: Removed broadcast_587_piece0 on ip-172-31-78-127.ec2.internal:42269 in memory (size: 1962.0 B, free: 2.3 GB)\n",
            "21/11/29 07:17:44 INFO ContextCleaner: Cleaned accumulator 8909\n",
            "21/11/29 07:17:49 INFO ContextCleaner: Cleaned accumulator 3138\n",
            "21/11/29 07:17:49 INFO ContextCleaner: Cleaned accumulator 8033\n",
            "21/11/29 07:17:49 INFO BlockManagerInfo: Removed broadcast_173_piece0 on ip-172-31-67-194.ec2.internal:34157 in memory (size: 28.2 KB, free: 3.3 GB)\n",
            "21/11/29 07:17:49 INFO BlockManagerInfo: Removed broadcast_173_piece0 on ip-172-31-66-80.ec2.internal:38341 in memory (size: 28.2 KB, free: 2.3 GB)\n",
            "21/11/29 07:17:49 INFO BlockManagerInfo: Removed broadcast_173_piece0 on ip-172-31-71-232.ec2.internal:33725 in memory (size: 28.2 KB, free: 2.3 GB)\n",
            "21/11/29 07:17:49 INFO BlockManagerInfo: Removed broadcast_173_piece0 on ip-172-31-64-228.ec2.internal:42119 in memory (size: 28.2 KB, free: 2.3 GB)\n",
            "21/11/29 07:17:49 INFO BlockManagerInfo: Removed broadcast_173_piece0 on ip-172-31-78-127.ec2.internal:42269 in memory (size: 28.2 KB, free: 2.3 GB)\n",
            "21/11/29 07:17:49 INFO ContextCleaner: Cleaned accumulator 7932\n",
            "21/11/29 07:17:49 INFO ContextCleaner: Cleaned accumulator 7931\n",
            "21/11/29 07:17:49 INFO ContextCleaner: Cleaned accumulator 3136\n",
            "21/11/29 07:17:49 INFO ContextCleaner: Cleaned accumulator 3132\n",
            "21/11/29 07:17:49 INFO ContextCleaner: Cleaned accumulator 7940\n",
            "21/11/29 07:17:49 INFO BlockManagerInfo: Removed broadcast_174_piece0 on ip-172-31-67-194.ec2.internal:34157 in memory (size: 28.2 KB, free: 3.3 GB)\n",
            "21/11/29 07:17:49 INFO ContextCleaner: Cleaned accumulator 7939\n",
            "21/11/29 07:17:49 INFO ContextCleaner: Cleaned accumulator 7933\n",
            "21/11/29 07:17:49 INFO ContextCleaner: Cleaned accumulator 3144\n",
            "21/11/29 07:17:49 INFO ContextCleaner: Cleaned accumulator 3129\n",
            "21/11/29 07:17:49 INFO ContextCleaner: Cleaned accumulator 3137\n",
            "21/11/29 07:17:49 INFO ContextCleaner: Cleaned accumulator 8030\n",
            "21/11/29 07:17:49 INFO ContextCleaner: Cleaned accumulator 3131\n",
            "21/11/29 07:17:49 INFO BlockManagerInfo: Removed broadcast_544_piece0 on ip-172-31-67-194.ec2.internal:34157 in memory (size: 28.2 KB, free: 3.3 GB)\n",
            "21/11/29 07:17:49 INFO BlockManagerInfo: Removed broadcast_544_piece0 on ip-172-31-66-80.ec2.internal:38341 in memory (size: 28.2 KB, free: 2.3 GB)\n",
            "21/11/29 07:17:49 INFO BlockManagerInfo: Removed broadcast_544_piece0 on ip-172-31-71-232.ec2.internal:33725 in memory (size: 28.2 KB, free: 2.3 GB)\n",
            "21/11/29 07:17:49 INFO BlockManagerInfo: Removed broadcast_544_piece0 on ip-172-31-64-228.ec2.internal:42119 in memory (size: 28.2 KB, free: 2.3 GB)\n",
            "21/11/29 07:17:49 INFO BlockManagerInfo: Removed broadcast_544_piece0 on ip-172-31-78-127.ec2.internal:42269 in memory (size: 28.2 KB, free: 2.3 GB)\n",
            "21/11/29 07:17:49 INFO ContextCleaner: Cleaned accumulator 8028\n",
            "21/11/29 07:17:49 INFO ContextCleaner: Cleaned accumulator 3127\n"
          ]
        }
      ],
      "source": [
        "vectorAssembler = feat.VectorAssembler(\n",
        "    inputCols = ordered_airline.columns[1:-1]\n",
        "    , outputCol = 'features')\n",
        "\n",
        "selector = feat.ChiSqSelector(\n",
        "    labelCol = 'satisfied'\n",
        "    , numTopFeatures = 5\n",
        "    , outputCol = 'selected')\n",
        "\n",
        "rf_obj = cl.RandomForestClassifier(\n",
        "    labelCol = 'satisfied'\n",
        "    , featuresCol = selector.getOutputCol()\n",
        "    , minInstancesPerNode = 10\n",
        "    , numTrees = 10\n",
        ")\n",
        "\n",
        "rf_grid = (\n",
        "    tune.ParamGridBuilder()\n",
        "    .addGrid(rf_obj.minInstancesPerNode\n",
        "            , [5, 10, 15, 25, 50]\n",
        "        )\n",
        "    .addGrid(rf_obj.numTrees\n",
        "            , [5, 10, 15, 25, 50]\n",
        "        )\n",
        "    .build()\n",
        ")\n",
        "\n",
        "rf_ev = ev.MulticlassClassificationEvaluator(\n",
        "    predictionCol = 'prediction'\n",
        "    , labelCol = 'satisfied')\n",
        "\n",
        "cross_v = tune.CrossValidator(\n",
        "    estimator = rf_obj\n",
        "    , estimatorParamMaps = rf_grid\n",
        "    , evaluator = rf_ev\n",
        ")\n",
        "\n",
        "pipeline = Pipeline(stages = [vectorAssembler, selector])\n",
        "data_trans = pipeline.fit(airline_train)\n",
        "\n",
        "rf_modelTest = cross_v.fit(\n",
        "    data_trans.transform(airline_train)\n",
        ")"
      ]
    },
    {
      "cell_type": "markdown",
      "id": "b6f2b883",
      "metadata": {
        "id": "b6f2b883"
      },
      "source": [
        "Lastly, we will display the performance of the random forest classifier model with the best parameters from GridSearch and display the best parameters chosen from GridSearch."
      ]
    },
    {
      "cell_type": "code",
      "execution_count": null,
      "id": "b4dd1b84",
      "metadata": {
        "id": "b4dd1b84",
        "outputId": "eec05c08-bf78-41d7-e386-0cb20e940ffc",
        "colab": {
          "referenced_widgets": [
            "03bf6e422e0d4a278a237736624ab53a"
          ]
        }
      },
      "outputs": [
        {
          "data": {
            "application/vnd.jupyter.widget-view+json": {
              "model_id": "03bf6e422e0d4a278a237736624ab53a",
              "version_major": 2,
              "version_minor": 0
            },
            "text/plain": [
              "VBox()"
            ]
          },
          "metadata": {},
          "output_type": "display_data"
        },
        {
          "name": "stderr",
          "output_type": "stream",
          "text": [
            "An error was encountered:\n",
            "Session 1 unexpectedly reached final status 'dead'. See logs:\n",
            "stdout: \n",
            "#\n",
            "# There is insufficient memory for the Java Runtime Environment to continue.\n",
            "# Native memory allocation (mmap) failed to map 425680896 bytes for committing reserved memory.\n",
            "# An error report file with more information is saved as:\n",
            "# /tmp/hs_err_pid22193.log\n",
            "\n",
            "stderr: \n",
            "21/11/29 07:17:44 INFO TaskSetManager: Finished task 3.0 in stage 334.0 (TID 1301) in 96 ms on ip-172-31-78-127.ec2.internal (executor 1) (2/4)\n",
            "21/11/29 07:17:44 INFO TaskSetManager: Finished task 0.0 in stage 334.0 (TID 1298) in 107 ms on ip-172-31-78-127.ec2.internal (executor 1) (3/4)\n",
            "21/11/29 07:17:44 INFO TaskSetManager: Finished task 1.0 in stage 334.0 (TID 1299) in 117 ms on ip-172-31-66-80.ec2.internal (executor 3) (4/4)\n",
            "21/11/29 07:17:44 INFO DAGScheduler: ResultStage 334 (countByValue at ChiSqTest.scala:124) finished in 0.124 s\n",
            "21/11/29 07:17:44 INFO DAGScheduler: Job 297 finished: countByValue at ChiSqTest.scala:124, took 1.622128 s\n",
            "21/11/29 07:17:44 INFO YarnScheduler: Removed TaskSet 334.0, whose tasks have all completed, from pool \n",
            "21/11/29 07:17:44 INFO ContextCleaner: Cleaned accumulator 8908\n",
            "21/11/29 07:17:44 INFO ContextCleaner: Cleaned accumulator 8896\n",
            "21/11/29 07:17:44 INFO ContextCleaner: Cleaned accumulator 8875\n",
            "21/11/29 07:17:44 INFO ContextCleaner: Cleaned accumulator 8921\n",
            "21/11/29 07:17:44 INFO ContextCleaner: Cleaned accumulator 8922\n",
            "21/11/29 07:17:44 INFO ContextCleaner: Cleaned accumulator 8913\n",
            "21/11/29 07:17:44 INFO ContextCleaner: Cleaned accumulator 8918\n",
            "21/11/29 07:17:44 INFO ContextCleaner: Cleaned accumulator 8893\n",
            "21/11/29 07:17:44 INFO ContextCleaner: Cleaned accumulator 8877\n",
            "21/11/29 07:17:44 INFO ContextCleaner: Cleaned accumulator 8889\n",
            "21/11/29 07:17:44 INFO ContextCleaner: Cleaned accumulator 8900\n",
            "21/11/29 07:17:44 INFO ContextCleaner: Cleaned accumulator 8914\n",
            "21/11/29 07:17:44 INFO ContextCleaner: Cleaned shuffle 35\n",
            "21/11/29 07:17:44 INFO ContextCleaner: Cleaned accumulator 8876\n",
            "21/11/29 07:17:44 INFO ContextCleaner: Cleaned accumulator 8885\n",
            "21/11/29 07:17:44 INFO ContextCleaner: Cleaned accumulator 8919\n",
            "21/11/29 07:17:44 INFO ContextCleaner: Cleaned accumulator 8915\n",
            "21/11/29 07:17:44 INFO ContextCleaner: Cleaned accumulator 8882\n",
            "21/11/29 07:17:44 INFO ContextCleaner: Cleaned accumulator 8897\n",
            "21/11/29 07:17:44 INFO ContextCleaner: Cleaned accumulator 8899\n",
            "21/11/29 07:17:44 INFO ContextCleaner: Cleaned accumulator 8888\n",
            "21/11/29 07:17:44 INFO ContextCleaner: Cleaned accumulator 8883\n",
            "21/11/29 07:17:44 INFO ContextCleaner: Cleaned accumulator 8907\n",
            "21/11/29 07:17:44 INFO ContextCleaner: Cleaned accumulator 8901\n",
            "21/11/29 07:17:44 INFO ContextCleaner: Cleaned accumulator 8902\n",
            "21/11/29 07:17:44 INFO ContextCleaner: Cleaned accumulator 8923\n",
            "21/11/29 07:17:44 INFO ContextCleaner: Cleaned accumulator 8898\n",
            "21/11/29 07:17:44 INFO ContextCleaner: Cleaned accumulator 8911\n",
            "21/11/29 07:17:44 INFO ContextCleaner: Cleaned accumulator 8920\n",
            "21/11/29 07:17:44 INFO ContextCleaner: Cleaned accumulator 8887\n",
            "21/11/29 07:17:44 INFO ContextCleaner: Cleaned accumulator 8880\n",
            "21/11/29 07:17:44 INFO ContextCleaner: Cleaned accumulator 8892\n",
            "21/11/29 07:17:44 INFO ContextCleaner: Cleaned accumulator 8894\n",
            "21/11/29 07:17:44 INFO ContextCleaner: Cleaned accumulator 8895\n",
            "21/11/29 07:17:44 INFO ContextCleaner: Cleaned accumulator 8884\n",
            "21/11/29 07:17:44 INFO ContextCleaner: Cleaned accumulator 8905\n",
            "21/11/29 07:17:44 INFO ContextCleaner: Cleaned accumulator 8910\n",
            "21/11/29 07:17:44 INFO ContextCleaner: Cleaned accumulator 8904\n",
            "21/11/29 07:17:44 INFO ContextCleaner: Cleaned accumulator 8916\n",
            "21/11/29 07:17:44 INFO ContextCleaner: Cleaned accumulator 8891\n",
            "21/11/29 07:17:44 INFO ContextCleaner: Cleaned accumulator 8912\n",
            "21/11/29 07:17:44 INFO ContextCleaner: Cleaned accumulator 8890\n",
            "21/11/29 07:17:44 INFO ContextCleaner: Cleaned accumulator 8878\n",
            "21/11/29 07:17:44 INFO ContextCleaner: Cleaned accumulator 8881\n",
            "21/11/29 07:17:44 INFO ContextCleaner: Cleaned accumulator 8924\n",
            "21/11/29 07:17:44 INFO ContextCleaner: Cleaned accumulator 8917\n",
            "21/11/29 07:17:44 INFO ContextCleaner: Cleaned accumulator 8906\n",
            "21/11/29 07:17:44 INFO ContextCleaner: Cleaned accumulator 8879\n",
            "21/11/29 07:17:44 INFO BlockManagerInfo: Removed broadcast_586_piece0 on ip-172-31-67-194.ec2.internal:34157 in memory (size: 26.8 KB, free: 3.3 GB)\n",
            "21/11/29 07:17:44 INFO BlockManagerInfo: Removed broadcast_586_piece0 on ip-172-31-66-80.ec2.internal:38341 in memory (size: 26.8 KB, free: 2.3 GB)\n",
            "21/11/29 07:17:44 INFO BlockManagerInfo: Removed broadcast_586_piece0 on ip-172-31-64-228.ec2.internal:42119 in memory (size: 26.8 KB, free: 2.3 GB)\n",
            "21/11/29 07:17:44 INFO BlockManagerInfo: Removed broadcast_586_piece0 on ip-172-31-71-232.ec2.internal:33725 in memory (size: 26.8 KB, free: 2.3 GB)\n",
            "21/11/29 07:17:44 INFO BlockManagerInfo: Removed broadcast_586_piece0 on ip-172-31-78-127.ec2.internal:42269 in memory (size: 26.8 KB, free: 2.3 GB)\n",
            "21/11/29 07:17:44 INFO ContextCleaner: Cleaned accumulator 8886\n",
            "21/11/29 07:17:44 INFO ContextCleaner: Cleaned accumulator 8903\n",
            "21/11/29 07:17:44 INFO BlockManagerInfo: Removed broadcast_587_piece0 on ip-172-31-67-194.ec2.internal:34157 in memory (size: 1962.0 B, free: 3.3 GB)\n",
            "21/11/29 07:17:44 INFO BlockManagerInfo: Removed broadcast_587_piece0 on ip-172-31-66-80.ec2.internal:38341 in memory (size: 1962.0 B, free: 2.3 GB)\n",
            "21/11/29 07:17:44 INFO BlockManagerInfo: Removed broadcast_587_piece0 on ip-172-31-71-232.ec2.internal:33725 in memory (size: 1962.0 B, free: 2.3 GB)\n",
            "21/11/29 07:17:44 INFO BlockManagerInfo: Removed broadcast_587_piece0 on ip-172-31-78-127.ec2.internal:42269 in memory (size: 1962.0 B, free: 2.3 GB)\n",
            "21/11/29 07:17:44 INFO ContextCleaner: Cleaned accumulator 8909\n",
            "21/11/29 07:17:49 INFO ContextCleaner: Cleaned accumulator 3138\n",
            "21/11/29 07:17:49 INFO ContextCleaner: Cleaned accumulator 8033\n",
            "21/11/29 07:17:49 INFO BlockManagerInfo: Removed broadcast_173_piece0 on ip-172-31-67-194.ec2.internal:34157 in memory (size: 28.2 KB, free: 3.3 GB)\n",
            "21/11/29 07:17:49 INFO BlockManagerInfo: Removed broadcast_173_piece0 on ip-172-31-66-80.ec2.internal:38341 in memory (size: 28.2 KB, free: 2.3 GB)\n",
            "21/11/29 07:17:49 INFO BlockManagerInfo: Removed broadcast_173_piece0 on ip-172-31-71-232.ec2.internal:33725 in memory (size: 28.2 KB, free: 2.3 GB)\n",
            "21/11/29 07:17:49 INFO BlockManagerInfo: Removed broadcast_173_piece0 on ip-172-31-64-228.ec2.internal:42119 in memory (size: 28.2 KB, free: 2.3 GB)\n",
            "21/11/29 07:17:49 INFO BlockManagerInfo: Removed broadcast_173_piece0 on ip-172-31-78-127.ec2.internal:42269 in memory (size: 28.2 KB, free: 2.3 GB)\n",
            "21/11/29 07:17:49 INFO ContextCleaner: Cleaned accumulator 7932\n",
            "21/11/29 07:17:49 INFO ContextCleaner: Cleaned accumulator 7931\n",
            "21/11/29 07:17:49 INFO ContextCleaner: Cleaned accumulator 3136\n",
            "21/11/29 07:17:49 INFO ContextCleaner: Cleaned accumulator 3132\n",
            "21/11/29 07:17:49 INFO ContextCleaner: Cleaned accumulator 7940\n",
            "21/11/29 07:17:49 INFO BlockManagerInfo: Removed broadcast_174_piece0 on ip-172-31-67-194.ec2.internal:34157 in memory (size: 28.2 KB, free: 3.3 GB)\n",
            "21/11/29 07:17:49 INFO ContextCleaner: Cleaned accumulator 7939\n",
            "21/11/29 07:17:49 INFO ContextCleaner: Cleaned accumulator 7933\n",
            "21/11/29 07:17:49 INFO ContextCleaner: Cleaned accumulator 3144\n",
            "21/11/29 07:17:49 INFO ContextCleaner: Cleaned accumulator 3129\n",
            "21/11/29 07:17:49 INFO ContextCleaner: Cleaned accumulator 3137\n",
            "21/11/29 07:17:49 INFO ContextCleaner: Cleaned accumulator 8030\n",
            "21/11/29 07:17:49 INFO ContextCleaner: Cleaned accumulator 3131\n",
            "21/11/29 07:17:49 INFO BlockManagerInfo: Removed broadcast_544_piece0 on ip-172-31-67-194.ec2.internal:34157 in memory (size: 28.2 KB, free: 3.3 GB)\n",
            "21/11/29 07:17:49 INFO BlockManagerInfo: Removed broadcast_544_piece0 on ip-172-31-66-80.ec2.internal:38341 in memory (size: 28.2 KB, free: 2.3 GB)\n",
            "21/11/29 07:17:49 INFO BlockManagerInfo: Removed broadcast_544_piece0 on ip-172-31-71-232.ec2.internal:33725 in memory (size: 28.2 KB, free: 2.3 GB)\n",
            "21/11/29 07:17:49 INFO BlockManagerInfo: Removed broadcast_544_piece0 on ip-172-31-64-228.ec2.internal:42119 in memory (size: 28.2 KB, free: 2.3 GB)\n",
            "21/11/29 07:17:49 INFO BlockManagerInfo: Removed broadcast_544_piece0 on ip-172-31-78-127.ec2.internal:42269 in memory (size: 28.2 KB, free: 2.3 GB)\n",
            "21/11/29 07:17:49 INFO ContextCleaner: Cleaned accumulator 8028\n",
            "21/11/29 07:17:49 INFO ContextCleaner: Cleaned accumulator 3127\n"
          ]
        }
      ],
      "source": [
        "data_trans_test = data_trans.transform(airline_test)\n",
        "results = rf_modelTest.transform(data_trans_test)\n",
        "\n",
        "print(rf_ev.evaluate(results, {rf_ev.metricName: 'weightedPrecision'}))\n",
        "print(rf_ev.evaluate(results, {rf_ev.metricName: 'weightedRecall'}))\n",
        "print(rf_ev.evaluate(results, {rf_ev.metricName: 'accuracy'}))\n",
        "print('Best params, minInstancesPerNode: %s, numTrees: %s' \n",
        "      %(rf_modelTest.bestModel._java_obj.getminInstancesPerNode(),\n",
        "      rf_modelTest.bestModel._java_obj.getnumTrees()))"
      ]
    }
  ],
  "metadata": {
    "kernelspec": {
      "display_name": "PySpark",
      "language": "",
      "name": "pysparkkernel"
    },
    "language_info": {
      "codemirror_mode": {
        "name": "python",
        "version": 3
      },
      "mimetype": "text/x-python",
      "name": "pyspark",
      "pygments_lexer": "python3"
    },
    "colab": {
      "name": "Airline Satisfaction Classification",
      "provenance": []
    }
  },
  "nbformat": 4,
  "nbformat_minor": 5
}